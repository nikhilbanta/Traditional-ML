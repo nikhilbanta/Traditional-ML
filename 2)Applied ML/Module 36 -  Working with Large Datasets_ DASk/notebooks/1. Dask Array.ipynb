{
 "cells": [
  {
   "cell_type": "markdown",
   "metadata": {},
   "source": [
    "## DASK"
   ]
  },
  {
   "cell_type": "code",
   "execution_count": 1,
   "metadata": {
    "collapsed": true
   },
   "outputs": [],
   "source": [
    "import dask \n",
    "\n",
    "import dask.dataframe as dd\n",
    "import dask.array as da\n",
    "import pandas as pd\n",
    "import numpy as np"
   ]
  },
  {
   "cell_type": "code",
   "execution_count": 2,
   "metadata": {
    "collapsed": true
   },
   "outputs": [],
   "source": [
    "from dask.multiprocessing import get\n",
    "from multiprocessing import cpu_count\n",
    "\n",
    "nCores = cpu_count()"
   ]
  },
  {
   "cell_type": "code",
   "execution_count": 3,
   "metadata": {},
   "outputs": [
    {
     "data": {
      "text/plain": [
       "4"
      ]
     },
     "execution_count": 3,
     "metadata": {},
     "output_type": "execute_result"
    }
   ],
   "source": [
    "nCores"
   ]
  },
  {
   "cell_type": "markdown",
   "metadata": {},
   "source": [
    "## Dask Arrays"
   ]
  },
  {
   "cell_type": "code",
   "execution_count": 4,
   "metadata": {},
   "outputs": [
    {
     "data": {
      "text/plain": [
       "array([ 0,  1,  2,  3,  4,  5,  6,  7,  8,  9, 10, 11, 12, 13, 14, 15, 16,\n",
       "       17, 18, 19, 20, 21, 22, 23, 24, 25, 26, 27, 28, 29, 30, 31, 32, 33,\n",
       "       34, 35, 36, 37, 38, 39, 40, 41, 42, 43, 44, 45, 46, 47, 48, 49, 50,\n",
       "       51, 52, 53, 54, 55, 56, 57, 58, 59, 60, 61, 62, 63, 64, 65, 66, 67,\n",
       "       68, 69, 70, 71, 72, 73, 74, 75, 76, 77, 78, 79, 80, 81, 82, 83, 84,\n",
       "       85, 86, 87, 88, 89, 90, 91, 92, 93, 94, 95, 96, 97, 98, 99])"
      ]
     },
     "execution_count": 4,
     "metadata": {},
     "output_type": "execute_result"
    }
   ],
   "source": [
    "##numpy arrays\n",
    "import numpy as np\n",
    "np.arange(100)"
   ]
  },
  {
   "cell_type": "code",
   "execution_count": 5,
   "metadata": {
    "scrolled": false
   },
   "outputs": [
    {
     "data": {
      "text/plain": [
       "array([ 0,  1,  2,  3,  4,  5,  6,  7,  8,  9, 10, 11, 12, 13, 14, 15, 16,\n",
       "       17, 18, 19, 20, 21, 22, 23, 24, 25, 26, 27, 28, 29, 30, 31, 32, 33,\n",
       "       34, 35, 36, 37, 38, 39, 40, 41, 42, 43, 44, 45, 46, 47, 48, 49, 50,\n",
       "       51, 52, 53, 54, 55, 56, 57, 58, 59, 60, 61, 62, 63, 64, 65, 66, 67,\n",
       "       68, 69, 70, 71, 72, 73, 74, 75, 76, 77, 78, 79, 80, 81, 82, 83, 84,\n",
       "       85, 86, 87, 88, 89, 90, 91, 92, 93, 94, 95, 96, 97, 98, 99])"
      ]
     },
     "execution_count": 5,
     "metadata": {},
     "output_type": "execute_result"
    }
   ],
   "source": [
    "##dask arrays\n",
    "import dask.array as da\n",
    "da.arange(100, chunks=5).compute()"
   ]
  },
  {
   "cell_type": "code",
   "execution_count": 6,
   "metadata": {
    "scrolled": true
   },
   "outputs": [
    {
     "data": {
      "image/svg+xml": [
       "<svg height=\"149pt\" viewBox=\"0.00 0.00 1729.89 148.89\" width=\"1730pt\" xmlns=\"http://www.w3.org/2000/svg\" xmlns:xlink=\"http://www.w3.org/1999/xlink\">\n",
       "<g class=\"graph\" id=\"graph0\" transform=\"scale(1 1) rotate(0) translate(4 144.894)\">\n",
       "<title>%3</title>\n",
       "<polygon fill=\"white\" points=\"-4,4 -4,-144.894 1725.89,-144.894 1725.89,4 -4,4\" stroke=\"none\"/>\n",
       "<!-- &#45;1370181865381430158 -->\n",
       "<g class=\"node\" id=\"node1\"><title>-1370181865381430158</title>\n",
       "<polygon fill=\"none\" points=\"61.4469,-140.894 7.44694,-140.894 7.44694,-104.894 61.4469,-104.894 61.4469,-140.894\" stroke=\"black\"/>\n",
       "<text font-family=\"Times,serif\" font-size=\"14.00\" text-anchor=\"middle\" x=\"34.4469\" y=\"-119.194\">0</text>\n",
       "</g>\n",
       "<!-- &#45;383170064893034379 -->\n",
       "<g class=\"node\" id=\"node2\"><title>-383170064893034379</title>\n",
       "<ellipse cx=\"34.4469\" cy=\"-34.4469\" fill=\"none\" rx=\"34.394\" ry=\"34.394\" stroke=\"black\"/>\n",
       "<text font-family=\"Times,serif\" font-size=\"14.00\" text-anchor=\"middle\" x=\"34.4469\" y=\"-30.7469\">arange</text>\n",
       "</g>\n",
       "<!-- &#45;383170064893034379&#45;&gt;&#45;1370181865381430158 -->\n",
       "<g class=\"edge\" id=\"edge1\"><title>-383170064893034379-&gt;-1370181865381430158</title>\n",
       "<path d=\"M34.4469,-69.1171C34.4469,-77.5557 34.4469,-86.5057 34.4469,-94.5916\" fill=\"none\" stroke=\"black\"/>\n",
       "<polygon fill=\"black\" points=\"30.947,-94.6078 34.4469,-104.608 37.947,-94.6079 30.947,-94.6078\" stroke=\"black\"/>\n",
       "</g>\n",
       "<!-- &#45;1370181865382512683 -->\n",
       "<g class=\"node\" id=\"node3\"><title>-1370181865382512683</title>\n",
       "<polygon fill=\"none\" points=\"148.447,-140.894 94.4469,-140.894 94.4469,-104.894 148.447,-104.894 148.447,-140.894\" stroke=\"black\"/>\n",
       "<text font-family=\"Times,serif\" font-size=\"14.00\" text-anchor=\"middle\" x=\"121.447\" y=\"-119.194\">1</text>\n",
       "</g>\n",
       "<!-- 6476713685728113930 -->\n",
       "<g class=\"node\" id=\"node4\"><title>6476713685728113930</title>\n",
       "<ellipse cx=\"121.447\" cy=\"-34.4469\" fill=\"none\" rx=\"34.394\" ry=\"34.394\" stroke=\"black\"/>\n",
       "<text font-family=\"Times,serif\" font-size=\"14.00\" text-anchor=\"middle\" x=\"121.447\" y=\"-30.7469\">arange</text>\n",
       "</g>\n",
       "<!-- 6476713685728113930&#45;&gt;&#45;1370181865382512683 -->\n",
       "<g class=\"edge\" id=\"edge2\"><title>6476713685728113930-&gt;-1370181865382512683</title>\n",
       "<path d=\"M121.447,-69.1171C121.447,-77.5557 121.447,-86.5057 121.447,-94.5916\" fill=\"none\" stroke=\"black\"/>\n",
       "<polygon fill=\"black\" points=\"117.947,-94.6078 121.447,-104.608 124.947,-94.6079 117.947,-94.6078\" stroke=\"black\"/>\n",
       "</g>\n",
       "<!-- &#45;1370181865383595208 -->\n",
       "<g class=\"node\" id=\"node5\"><title>-1370181865383595208</title>\n",
       "<polygon fill=\"none\" points=\"235.447,-140.894 181.447,-140.894 181.447,-104.894 235.447,-104.894 235.447,-140.894\" stroke=\"black\"/>\n",
       "<text font-family=\"Times,serif\" font-size=\"14.00\" text-anchor=\"middle\" x=\"208.447\" y=\"-119.194\">2</text>\n",
       "</g>\n",
       "<!-- &#45;4586737426051091929 -->\n",
       "<g class=\"node\" id=\"node6\"><title>-4586737426051091929</title>\n",
       "<ellipse cx=\"208.447\" cy=\"-34.4469\" fill=\"none\" rx=\"34.394\" ry=\"34.394\" stroke=\"black\"/>\n",
       "<text font-family=\"Times,serif\" font-size=\"14.00\" text-anchor=\"middle\" x=\"208.447\" y=\"-30.7469\">arange</text>\n",
       "</g>\n",
       "<!-- &#45;4586737426051091929&#45;&gt;&#45;1370181865383595208 -->\n",
       "<g class=\"edge\" id=\"edge3\"><title>-4586737426051091929-&gt;-1370181865383595208</title>\n",
       "<path d=\"M208.447,-69.1171C208.447,-77.5557 208.447,-86.5057 208.447,-94.5916\" fill=\"none\" stroke=\"black\"/>\n",
       "<polygon fill=\"black\" points=\"204.947,-94.6078 208.447,-104.608 211.947,-94.6079 204.947,-94.6078\" stroke=\"black\"/>\n",
       "</g>\n",
       "<!-- &#45;1370181865384677733 -->\n",
       "<g class=\"node\" id=\"node7\"><title>-1370181865384677733</title>\n",
       "<polygon fill=\"none\" points=\"322.447,-140.894 268.447,-140.894 268.447,-104.894 322.447,-104.894 322.447,-140.894\" stroke=\"black\"/>\n",
       "<text font-family=\"Times,serif\" font-size=\"14.00\" text-anchor=\"middle\" x=\"295.447\" y=\"-119.194\">3</text>\n",
       "</g>\n",
       "<!-- &#45;5904021893164480004 -->\n",
       "<g class=\"node\" id=\"node8\"><title>-5904021893164480004</title>\n",
       "<ellipse cx=\"295.447\" cy=\"-34.4469\" fill=\"none\" rx=\"34.394\" ry=\"34.394\" stroke=\"black\"/>\n",
       "<text font-family=\"Times,serif\" font-size=\"14.00\" text-anchor=\"middle\" x=\"295.447\" y=\"-30.7469\">arange</text>\n",
       "</g>\n",
       "<!-- &#45;5904021893164480004&#45;&gt;&#45;1370181865384677733 -->\n",
       "<g class=\"edge\" id=\"edge4\"><title>-5904021893164480004-&gt;-1370181865384677733</title>\n",
       "<path d=\"M295.447,-69.1171C295.447,-77.5557 295.447,-86.5057 295.447,-94.5916\" fill=\"none\" stroke=\"black\"/>\n",
       "<polygon fill=\"black\" points=\"291.947,-94.6078 295.447,-104.608 298.947,-94.6079 291.947,-94.6078\" stroke=\"black\"/>\n",
       "</g>\n",
       "<!-- &#45;1370181865377100058 -->\n",
       "<g class=\"node\" id=\"node9\"><title>-1370181865377100058</title>\n",
       "<polygon fill=\"none\" points=\"409.447,-140.894 355.447,-140.894 355.447,-104.894 409.447,-104.894 409.447,-140.894\" stroke=\"black\"/>\n",
       "<text font-family=\"Times,serif\" font-size=\"14.00\" text-anchor=\"middle\" x=\"382.447\" y=\"-119.194\">4</text>\n",
       "</g>\n",
       "<!-- 3775525165861889321 -->\n",
       "<g class=\"node\" id=\"node10\"><title>3775525165861889321</title>\n",
       "<ellipse cx=\"382.447\" cy=\"-34.4469\" fill=\"none\" rx=\"34.394\" ry=\"34.394\" stroke=\"black\"/>\n",
       "<text font-family=\"Times,serif\" font-size=\"14.00\" text-anchor=\"middle\" x=\"382.447\" y=\"-30.7469\">arange</text>\n",
       "</g>\n",
       "<!-- 3775525165861889321&#45;&gt;&#45;1370181865377100058 -->\n",
       "<g class=\"edge\" id=\"edge5\"><title>3775525165861889321-&gt;-1370181865377100058</title>\n",
       "<path d=\"M382.447,-69.1171C382.447,-77.5557 382.447,-86.5057 382.447,-94.5916\" fill=\"none\" stroke=\"black\"/>\n",
       "<polygon fill=\"black\" points=\"378.947,-94.6078 382.447,-104.608 385.947,-94.6079 378.947,-94.6078\" stroke=\"black\"/>\n",
       "</g>\n",
       "<!-- &#45;1370181865378182583 -->\n",
       "<g class=\"node\" id=\"node11\"><title>-1370181865378182583</title>\n",
       "<polygon fill=\"none\" points=\"496.447,-140.894 442.447,-140.894 442.447,-104.894 496.447,-104.894 496.447,-140.894\" stroke=\"black\"/>\n",
       "<text font-family=\"Times,serif\" font-size=\"14.00\" text-anchor=\"middle\" x=\"469.447\" y=\"-119.194\">5</text>\n",
       "</g>\n",
       "<!-- &#45;8434081590857222354 -->\n",
       "<g class=\"node\" id=\"node12\"><title>-8434081590857222354</title>\n",
       "<ellipse cx=\"469.447\" cy=\"-34.4469\" fill=\"none\" rx=\"34.394\" ry=\"34.394\" stroke=\"black\"/>\n",
       "<text font-family=\"Times,serif\" font-size=\"14.00\" text-anchor=\"middle\" x=\"469.447\" y=\"-30.7469\">arange</text>\n",
       "</g>\n",
       "<!-- &#45;8434081590857222354&#45;&gt;&#45;1370181865378182583 -->\n",
       "<g class=\"edge\" id=\"edge6\"><title>-8434081590857222354-&gt;-1370181865378182583</title>\n",
       "<path d=\"M469.447,-69.1171C469.447,-77.5557 469.447,-86.5057 469.447,-94.5916\" fill=\"none\" stroke=\"black\"/>\n",
       "<polygon fill=\"black\" points=\"465.947,-94.6078 469.447,-104.608 472.947,-94.6079 465.947,-94.6078\" stroke=\"black\"/>\n",
       "</g>\n",
       "<!-- &#45;1370181865379265108 -->\n",
       "<g class=\"node\" id=\"node13\"><title>-1370181865379265108</title>\n",
       "<polygon fill=\"none\" points=\"583.447,-140.894 529.447,-140.894 529.447,-104.894 583.447,-104.894 583.447,-140.894\" stroke=\"black\"/>\n",
       "<text font-family=\"Times,serif\" font-size=\"14.00\" text-anchor=\"middle\" x=\"556.447\" y=\"-119.194\">6</text>\n",
       "</g>\n",
       "<!-- 139439668011308571 -->\n",
       "<g class=\"node\" id=\"node14\"><title>139439668011308571</title>\n",
       "<ellipse cx=\"556.447\" cy=\"-34.4469\" fill=\"none\" rx=\"34.394\" ry=\"34.394\" stroke=\"black\"/>\n",
       "<text font-family=\"Times,serif\" font-size=\"14.00\" text-anchor=\"middle\" x=\"556.447\" y=\"-30.7469\">arange</text>\n",
       "</g>\n",
       "<!-- 139439668011308571&#45;&gt;&#45;1370181865379265108 -->\n",
       "<g class=\"edge\" id=\"edge7\"><title>139439668011308571-&gt;-1370181865379265108</title>\n",
       "<path d=\"M556.447,-69.1171C556.447,-77.5557 556.447,-86.5057 556.447,-94.5916\" fill=\"none\" stroke=\"black\"/>\n",
       "<polygon fill=\"black\" points=\"552.947,-94.6078 556.447,-104.608 559.947,-94.6079 552.947,-94.6078\" stroke=\"black\"/>\n",
       "</g>\n",
       "<!-- &#45;1370181865380347633 -->\n",
       "<g class=\"node\" id=\"node15\"><title>-1370181865380347633</title>\n",
       "<polygon fill=\"none\" points=\"670.447,-140.894 616.447,-140.894 616.447,-104.894 670.447,-104.894 670.447,-140.894\" stroke=\"black\"/>\n",
       "<text font-family=\"Times,serif\" font-size=\"14.00\" text-anchor=\"middle\" x=\"643.447\" y=\"-119.194\">7</text>\n",
       "</g>\n",
       "<!-- 910177937901739696 -->\n",
       "<g class=\"node\" id=\"node16\"><title>910177937901739696</title>\n",
       "<ellipse cx=\"643.447\" cy=\"-34.4469\" fill=\"none\" rx=\"34.394\" ry=\"34.394\" stroke=\"black\"/>\n",
       "<text font-family=\"Times,serif\" font-size=\"14.00\" text-anchor=\"middle\" x=\"643.447\" y=\"-30.7469\">arange</text>\n",
       "</g>\n",
       "<!-- 910177937901739696&#45;&gt;&#45;1370181865380347633 -->\n",
       "<g class=\"edge\" id=\"edge8\"><title>910177937901739696-&gt;-1370181865380347633</title>\n",
       "<path d=\"M643.447,-69.1171C643.447,-77.5557 643.447,-86.5057 643.447,-94.5916\" fill=\"none\" stroke=\"black\"/>\n",
       "<polygon fill=\"black\" points=\"639.947,-94.6078 643.447,-104.608 646.947,-94.6079 639.947,-94.6078\" stroke=\"black\"/>\n",
       "</g>\n",
       "<!-- &#45;1370181865372769958 -->\n",
       "<g class=\"node\" id=\"node17\"><title>-1370181865372769958</title>\n",
       "<polygon fill=\"none\" points=\"757.447,-140.894 703.447,-140.894 703.447,-104.894 757.447,-104.894 757.447,-140.894\" stroke=\"black\"/>\n",
       "<text font-family=\"Times,serif\" font-size=\"14.00\" text-anchor=\"middle\" x=\"730.447\" y=\"-119.194\">8</text>\n",
       "</g>\n",
       "<!-- 8765306936849083021 -->\n",
       "<g class=\"node\" id=\"node18\"><title>8765306936849083021</title>\n",
       "<ellipse cx=\"730.447\" cy=\"-34.4469\" fill=\"none\" rx=\"34.394\" ry=\"34.394\" stroke=\"black\"/>\n",
       "<text font-family=\"Times,serif\" font-size=\"14.00\" text-anchor=\"middle\" x=\"730.447\" y=\"-30.7469\">arange</text>\n",
       "</g>\n",
       "<!-- 8765306936849083021&#45;&gt;&#45;1370181865372769958 -->\n",
       "<g class=\"edge\" id=\"edge9\"><title>8765306936849083021-&gt;-1370181865372769958</title>\n",
       "<path d=\"M730.447,-69.1171C730.447,-77.5557 730.447,-86.5057 730.447,-94.5916\" fill=\"none\" stroke=\"black\"/>\n",
       "<polygon fill=\"black\" points=\"726.947,-94.6078 730.447,-104.608 733.947,-94.6079 726.947,-94.6078\" stroke=\"black\"/>\n",
       "</g>\n",
       "<!-- &#45;1370181865373852483 -->\n",
       "<g class=\"node\" id=\"node19\"><title>-1370181865373852483</title>\n",
       "<polygon fill=\"none\" points=\"844.447,-140.894 790.447,-140.894 790.447,-104.894 844.447,-104.894 844.447,-140.894\" stroke=\"black\"/>\n",
       "<text font-family=\"Times,serif\" font-size=\"14.00\" text-anchor=\"middle\" x=\"817.447\" y=\"-119.194\">9</text>\n",
       "</g>\n",
       "<!-- &#45;1609207821913908254 -->\n",
       "<g class=\"node\" id=\"node20\"><title>-1609207821913908254</title>\n",
       "<ellipse cx=\"817.447\" cy=\"-34.4469\" fill=\"none\" rx=\"34.394\" ry=\"34.394\" stroke=\"black\"/>\n",
       "<text font-family=\"Times,serif\" font-size=\"14.00\" text-anchor=\"middle\" x=\"817.447\" y=\"-30.7469\">arange</text>\n",
       "</g>\n",
       "<!-- &#45;1609207821913908254&#45;&gt;&#45;1370181865373852483 -->\n",
       "<g class=\"edge\" id=\"edge10\"><title>-1609207821913908254-&gt;-1370181865373852483</title>\n",
       "<path d=\"M817.447,-69.1171C817.447,-77.5557 817.447,-86.5057 817.447,-94.5916\" fill=\"none\" stroke=\"black\"/>\n",
       "<polygon fill=\"black\" points=\"813.947,-94.6078 817.447,-104.608 820.947,-94.6079 813.947,-94.6078\" stroke=\"black\"/>\n",
       "</g>\n",
       "<!-- &#45;1370181865374935008 -->\n",
       "<g class=\"node\" id=\"node21\"><title>-1370181865374935008</title>\n",
       "<polygon fill=\"none\" points=\"931.447,-140.894 877.447,-140.894 877.447,-104.894 931.447,-104.894 931.447,-140.894\" stroke=\"black\"/>\n",
       "<text font-family=\"Times,serif\" font-size=\"14.00\" text-anchor=\"middle\" x=\"904.447\" y=\"-119.194\">10</text>\n",
       "</g>\n",
       "<!-- &#45;2921315595613916929 -->\n",
       "<g class=\"node\" id=\"node22\"><title>-2921315595613916929</title>\n",
       "<ellipse cx=\"904.447\" cy=\"-34.4469\" fill=\"none\" rx=\"34.394\" ry=\"34.394\" stroke=\"black\"/>\n",
       "<text font-family=\"Times,serif\" font-size=\"14.00\" text-anchor=\"middle\" x=\"904.447\" y=\"-30.7469\">arange</text>\n",
       "</g>\n",
       "<!-- &#45;2921315595613916929&#45;&gt;&#45;1370181865374935008 -->\n",
       "<g class=\"edge\" id=\"edge11\"><title>-2921315595613916929-&gt;-1370181865374935008</title>\n",
       "<path d=\"M904.447,-69.1171C904.447,-77.5557 904.447,-86.5057 904.447,-94.5916\" fill=\"none\" stroke=\"black\"/>\n",
       "<polygon fill=\"black\" points=\"900.947,-94.6078 904.447,-104.608 907.947,-94.6079 900.947,-94.6078\" stroke=\"black\"/>\n",
       "</g>\n",
       "<!-- &#45;1370181865376017533 -->\n",
       "<g class=\"node\" id=\"node23\"><title>-1370181865376017533</title>\n",
       "<polygon fill=\"none\" points=\"1018.45,-140.894 964.447,-140.894 964.447,-104.894 1018.45,-104.894 1018.45,-140.894\" stroke=\"black\"/>\n",
       "<text font-family=\"Times,serif\" font-size=\"14.00\" text-anchor=\"middle\" x=\"991.447\" y=\"-119.194\">11</text>\n",
       "</g>\n",
       "<!-- 5057008606028176596 -->\n",
       "<g class=\"node\" id=\"node24\"><title>5057008606028176596</title>\n",
       "<ellipse cx=\"991.447\" cy=\"-34.4469\" fill=\"none\" rx=\"34.394\" ry=\"34.394\" stroke=\"black\"/>\n",
       "<text font-family=\"Times,serif\" font-size=\"14.00\" text-anchor=\"middle\" x=\"991.447\" y=\"-30.7469\">arange</text>\n",
       "</g>\n",
       "<!-- 5057008606028176596&#45;&gt;&#45;1370181865376017533 -->\n",
       "<g class=\"edge\" id=\"edge12\"><title>5057008606028176596-&gt;-1370181865376017533</title>\n",
       "<path d=\"M991.447,-69.1171C991.447,-77.5557 991.447,-86.5057 991.447,-94.5916\" fill=\"none\" stroke=\"black\"/>\n",
       "<polygon fill=\"black\" points=\"987.947,-94.6078 991.447,-104.608 994.947,-94.6079 987.947,-94.6078\" stroke=\"black\"/>\n",
       "</g>\n",
       "<!-- &#45;1370181865368439858 -->\n",
       "<g class=\"node\" id=\"node25\"><title>-1370181865368439858</title>\n",
       "<polygon fill=\"none\" points=\"1105.45,-140.894 1051.45,-140.894 1051.45,-104.894 1105.45,-104.894 1105.45,-140.894\" stroke=\"black\"/>\n",
       "<text font-family=\"Times,serif\" font-size=\"14.00\" text-anchor=\"middle\" x=\"1078.45\" y=\"-119.194\">12</text>\n",
       "</g>\n",
       "<!-- &#45;5929985681589891263 -->\n",
       "<g class=\"node\" id=\"node26\"><title>-5929985681589891263</title>\n",
       "<ellipse cx=\"1078.45\" cy=\"-34.4469\" fill=\"none\" rx=\"34.394\" ry=\"34.394\" stroke=\"black\"/>\n",
       "<text font-family=\"Times,serif\" font-size=\"14.00\" text-anchor=\"middle\" x=\"1078.45\" y=\"-30.7469\">arange</text>\n",
       "</g>\n",
       "<!-- &#45;5929985681589891263&#45;&gt;&#45;1370181865368439858 -->\n",
       "<g class=\"edge\" id=\"edge13\"><title>-5929985681589891263-&gt;-1370181865368439858</title>\n",
       "<path d=\"M1078.45,-69.1171C1078.45,-77.5557 1078.45,-86.5057 1078.45,-94.5916\" fill=\"none\" stroke=\"black\"/>\n",
       "<polygon fill=\"black\" points=\"1074.95,-94.6078 1078.45,-104.608 1081.95,-94.6079 1074.95,-94.6078\" stroke=\"black\"/>\n",
       "</g>\n",
       "<!-- &#45;1370181865369522383 -->\n",
       "<g class=\"node\" id=\"node27\"><title>-1370181865369522383</title>\n",
       "<polygon fill=\"none\" points=\"1192.45,-140.894 1138.45,-140.894 1138.45,-104.894 1192.45,-104.894 1192.45,-140.894\" stroke=\"black\"/>\n",
       "<text font-family=\"Times,serif\" font-size=\"14.00\" text-anchor=\"middle\" x=\"1165.45\" y=\"-119.194\">13</text>\n",
       "</g>\n",
       "<!-- 3052495370660426246 -->\n",
       "<g class=\"node\" id=\"node28\"><title>3052495370660426246</title>\n",
       "<ellipse cx=\"1165.45\" cy=\"-34.4469\" fill=\"none\" rx=\"34.394\" ry=\"34.394\" stroke=\"black\"/>\n",
       "<text font-family=\"Times,serif\" font-size=\"14.00\" text-anchor=\"middle\" x=\"1165.45\" y=\"-30.7469\">arange</text>\n",
       "</g>\n",
       "<!-- 3052495370660426246&#45;&gt;&#45;1370181865369522383 -->\n",
       "<g class=\"edge\" id=\"edge14\"><title>3052495370660426246-&gt;-1370181865369522383</title>\n",
       "<path d=\"M1165.45,-69.1171C1165.45,-77.5557 1165.45,-86.5057 1165.45,-94.5916\" fill=\"none\" stroke=\"black\"/>\n",
       "<polygon fill=\"black\" points=\"1161.95,-94.6078 1165.45,-104.608 1168.95,-94.6079 1161.95,-94.6078\" stroke=\"black\"/>\n",
       "</g>\n",
       "<!-- &#45;1370181865370604908 -->\n",
       "<g class=\"node\" id=\"node29\"><title>-1370181865370604908</title>\n",
       "<polygon fill=\"none\" points=\"1279.45,-140.894 1225.45,-140.894 1225.45,-104.894 1279.45,-104.894 1279.45,-140.894\" stroke=\"black\"/>\n",
       "<text font-family=\"Times,serif\" font-size=\"14.00\" text-anchor=\"middle\" x=\"1252.45\" y=\"-119.194\">14</text>\n",
       "</g>\n",
       "<!-- 1512550205596456371 -->\n",
       "<g class=\"node\" id=\"node30\"><title>1512550205596456371</title>\n",
       "<ellipse cx=\"1252.45\" cy=\"-34.4469\" fill=\"none\" rx=\"34.394\" ry=\"34.394\" stroke=\"black\"/>\n",
       "<text font-family=\"Times,serif\" font-size=\"14.00\" text-anchor=\"middle\" x=\"1252.45\" y=\"-30.7469\">arange</text>\n",
       "</g>\n",
       "<!-- 1512550205596456371&#45;&gt;&#45;1370181865370604908 -->\n",
       "<g class=\"edge\" id=\"edge15\"><title>1512550205596456371-&gt;-1370181865370604908</title>\n",
       "<path d=\"M1252.45,-69.1171C1252.45,-77.5557 1252.45,-86.5057 1252.45,-94.5916\" fill=\"none\" stroke=\"black\"/>\n",
       "<polygon fill=\"black\" points=\"1248.95,-94.6078 1252.45,-104.608 1255.95,-94.6079 1248.95,-94.6078\" stroke=\"black\"/>\n",
       "</g>\n",
       "<!-- &#45;1370181865371687433 -->\n",
       "<g class=\"node\" id=\"node31\"><title>-1370181865371687433</title>\n",
       "<polygon fill=\"none\" points=\"1366.45,-140.894 1312.45,-140.894 1312.45,-104.894 1366.45,-104.894 1366.45,-140.894\" stroke=\"black\"/>\n",
       "<text font-family=\"Times,serif\" font-size=\"14.00\" text-anchor=\"middle\" x=\"1339.45\" y=\"-119.194\">15</text>\n",
       "</g>\n",
       "<!-- &#45;8731840063116486520 -->\n",
       "<g class=\"node\" id=\"node32\"><title>-8731840063116486520</title>\n",
       "<ellipse cx=\"1339.45\" cy=\"-34.4469\" fill=\"none\" rx=\"34.394\" ry=\"34.394\" stroke=\"black\"/>\n",
       "<text font-family=\"Times,serif\" font-size=\"14.00\" text-anchor=\"middle\" x=\"1339.45\" y=\"-30.7469\">arange</text>\n",
       "</g>\n",
       "<!-- &#45;8731840063116486520&#45;&gt;&#45;1370181865371687433 -->\n",
       "<g class=\"edge\" id=\"edge16\"><title>-8731840063116486520-&gt;-1370181865371687433</title>\n",
       "<path d=\"M1339.45,-69.1171C1339.45,-77.5557 1339.45,-86.5057 1339.45,-94.5916\" fill=\"none\" stroke=\"black\"/>\n",
       "<polygon fill=\"black\" points=\"1335.95,-94.6078 1339.45,-104.608 1342.95,-94.6079 1335.95,-94.6078\" stroke=\"black\"/>\n",
       "</g>\n",
       "<!-- &#45;1370181865364109758 -->\n",
       "<g class=\"node\" id=\"node33\"><title>-1370181865364109758</title>\n",
       "<polygon fill=\"none\" points=\"1453.45,-140.894 1399.45,-140.894 1399.45,-104.894 1453.45,-104.894 1453.45,-140.894\" stroke=\"black\"/>\n",
       "<text font-family=\"Times,serif\" font-size=\"14.00\" text-anchor=\"middle\" x=\"1426.45\" y=\"-119.194\">16</text>\n",
       "</g>\n",
       "<!-- &#45;1271220539876638363 -->\n",
       "<g class=\"node\" id=\"node34\"><title>-1271220539876638363</title>\n",
       "<ellipse cx=\"1426.45\" cy=\"-34.4469\" fill=\"none\" rx=\"34.394\" ry=\"34.394\" stroke=\"black\"/>\n",
       "<text font-family=\"Times,serif\" font-size=\"14.00\" text-anchor=\"middle\" x=\"1426.45\" y=\"-30.7469\">arange</text>\n",
       "</g>\n",
       "<!-- &#45;1271220539876638363&#45;&gt;&#45;1370181865364109758 -->\n",
       "<g class=\"edge\" id=\"edge17\"><title>-1271220539876638363-&gt;-1370181865364109758</title>\n",
       "<path d=\"M1426.45,-69.1171C1426.45,-77.5557 1426.45,-86.5057 1426.45,-94.5916\" fill=\"none\" stroke=\"black\"/>\n",
       "<polygon fill=\"black\" points=\"1422.95,-94.6078 1426.45,-104.608 1429.95,-94.6079 1422.95,-94.6078\" stroke=\"black\"/>\n",
       "</g>\n",
       "<!-- &#45;1370181865365192283 -->\n",
       "<g class=\"node\" id=\"node35\"><title>-1370181865365192283</title>\n",
       "<polygon fill=\"none\" points=\"1540.45,-140.894 1486.45,-140.894 1486.45,-104.894 1540.45,-104.894 1540.45,-140.894\" stroke=\"black\"/>\n",
       "<text font-family=\"Times,serif\" font-size=\"14.00\" text-anchor=\"middle\" x=\"1513.45\" y=\"-119.194\">17</text>\n",
       "</g>\n",
       "<!-- 7974607744311477946 -->\n",
       "<g class=\"node\" id=\"node36\"><title>7974607744311477946</title>\n",
       "<ellipse cx=\"1513.45\" cy=\"-34.4469\" fill=\"none\" rx=\"34.394\" ry=\"34.394\" stroke=\"black\"/>\n",
       "<text font-family=\"Times,serif\" font-size=\"14.00\" text-anchor=\"middle\" x=\"1513.45\" y=\"-30.7469\">arange</text>\n",
       "</g>\n",
       "<!-- 7974607744311477946&#45;&gt;&#45;1370181865365192283 -->\n",
       "<g class=\"edge\" id=\"edge18\"><title>7974607744311477946-&gt;-1370181865365192283</title>\n",
       "<path d=\"M1513.45,-69.1171C1513.45,-77.5557 1513.45,-86.5057 1513.45,-94.5916\" fill=\"none\" stroke=\"black\"/>\n",
       "<polygon fill=\"black\" points=\"1509.95,-94.6078 1513.45,-104.608 1516.95,-94.6079 1509.95,-94.6078\" stroke=\"black\"/>\n",
       "</g>\n",
       "<!-- &#45;1370181865366274808 -->\n",
       "<g class=\"node\" id=\"node37\"><title>-1370181865366274808</title>\n",
       "<polygon fill=\"none\" points=\"1627.45,-140.894 1573.45,-140.894 1573.45,-104.894 1627.45,-104.894 1627.45,-140.894\" stroke=\"black\"/>\n",
       "<text font-family=\"Times,serif\" font-size=\"14.00\" text-anchor=\"middle\" x=\"1600.45\" y=\"-119.194\">18</text>\n",
       "</g>\n",
       "<!-- 6757145994471642071 -->\n",
       "<g class=\"node\" id=\"node38\"><title>6757145994471642071</title>\n",
       "<ellipse cx=\"1600.45\" cy=\"-34.4469\" fill=\"none\" rx=\"34.394\" ry=\"34.394\" stroke=\"black\"/>\n",
       "<text font-family=\"Times,serif\" font-size=\"14.00\" text-anchor=\"middle\" x=\"1600.45\" y=\"-30.7469\">arange</text>\n",
       "</g>\n",
       "<!-- 6757145994471642071&#45;&gt;&#45;1370181865366274808 -->\n",
       "<g class=\"edge\" id=\"edge19\"><title>6757145994471642071-&gt;-1370181865366274808</title>\n",
       "<path d=\"M1600.45,-69.1171C1600.45,-77.5557 1600.45,-86.5057 1600.45,-94.5916\" fill=\"none\" stroke=\"black\"/>\n",
       "<polygon fill=\"black\" points=\"1596.95,-94.6078 1600.45,-104.608 1603.95,-94.6079 1596.95,-94.6078\" stroke=\"black\"/>\n",
       "</g>\n",
       "<!-- &#45;1370181865367357333 -->\n",
       "<g class=\"node\" id=\"node39\"><title>-1370181865367357333</title>\n",
       "<polygon fill=\"none\" points=\"1714.45,-140.894 1660.45,-140.894 1660.45,-104.894 1714.45,-104.894 1714.45,-140.894\" stroke=\"black\"/>\n",
       "<text font-family=\"Times,serif\" font-size=\"14.00\" text-anchor=\"middle\" x=\"1687.45\" y=\"-119.194\">19</text>\n",
       "</g>\n",
       "<!-- &#45;4386319279862965588 -->\n",
       "<g class=\"node\" id=\"node40\"><title>-4386319279862965588</title>\n",
       "<ellipse cx=\"1687.45\" cy=\"-34.4469\" fill=\"none\" rx=\"34.394\" ry=\"34.394\" stroke=\"black\"/>\n",
       "<text font-family=\"Times,serif\" font-size=\"14.00\" text-anchor=\"middle\" x=\"1687.45\" y=\"-30.7469\">arange</text>\n",
       "</g>\n",
       "<!-- &#45;4386319279862965588&#45;&gt;&#45;1370181865367357333 -->\n",
       "<g class=\"edge\" id=\"edge20\"><title>-4386319279862965588-&gt;-1370181865367357333</title>\n",
       "<path d=\"M1687.45,-69.1171C1687.45,-77.5557 1687.45,-86.5057 1687.45,-94.5916\" fill=\"none\" stroke=\"black\"/>\n",
       "<polygon fill=\"black\" points=\"1683.95,-94.6078 1687.45,-104.608 1690.95,-94.6079 1683.95,-94.6078\" stroke=\"black\"/>\n",
       "</g>\n",
       "</g>\n",
       "</svg>"
      ],
      "text/plain": [
       "<IPython.core.display.SVG object>"
      ]
     },
     "execution_count": 6,
     "metadata": {},
     "output_type": "execute_result"
    }
   ],
   "source": [
    "x = da.arange(100, chunks=(5,))\n",
    "x.visualize('dask.svg')"
   ]
  },
  {
   "cell_type": "code",
   "execution_count": 7,
   "metadata": {},
   "outputs": [
    {
     "data": {
      "image/svg+xml": [
       "<svg height=\"149pt\" viewBox=\"0.00 0.00 163.89 148.89\" width=\"164pt\" xmlns=\"http://www.w3.org/2000/svg\" xmlns:xlink=\"http://www.w3.org/1999/xlink\">\n",
       "<g class=\"graph\" id=\"graph0\" transform=\"scale(1 1) rotate(0) translate(4 144.894)\">\n",
       "<title>%3</title>\n",
       "<polygon fill=\"white\" points=\"-4,4 -4,-144.894 159.894,-144.894 159.894,4 -4,4\" stroke=\"none\"/>\n",
       "<!-- 8408657451556434140 -->\n",
       "<g class=\"node\" id=\"node1\"><title>8408657451556434140</title>\n",
       "<polygon fill=\"none\" points=\"61.4469,-140.894 7.44694,-140.894 7.44694,-104.894 61.4469,-104.894 61.4469,-140.894\" stroke=\"black\"/>\n",
       "<text font-family=\"Times,serif\" font-size=\"14.00\" text-anchor=\"middle\" x=\"34.4469\" y=\"-119.194\">0</text>\n",
       "</g>\n",
       "<!-- 5727286924704767339 -->\n",
       "<g class=\"node\" id=\"node2\"><title>5727286924704767339</title>\n",
       "<ellipse cx=\"34.4469\" cy=\"-34.4469\" fill=\"none\" rx=\"34.394\" ry=\"34.394\" stroke=\"black\"/>\n",
       "<text font-family=\"Times,serif\" font-size=\"14.00\" text-anchor=\"middle\" x=\"34.4469\" y=\"-30.7469\">arange</text>\n",
       "</g>\n",
       "<!-- 5727286924704767339&#45;&gt;8408657451556434140 -->\n",
       "<g class=\"edge\" id=\"edge1\"><title>5727286924704767339-&gt;8408657451556434140</title>\n",
       "<path d=\"M34.4469,-69.1171C34.4469,-77.5557 34.4469,-86.5057 34.4469,-94.5916\" fill=\"none\" stroke=\"black\"/>\n",
       "<polygon fill=\"black\" points=\"30.947,-94.6078 34.4469,-104.608 37.947,-94.6079 30.947,-94.6078\" stroke=\"black\"/>\n",
       "</g>\n",
       "<!-- 8408657451555351615 -->\n",
       "<g class=\"node\" id=\"node3\"><title>8408657451555351615</title>\n",
       "<polygon fill=\"none\" points=\"148.447,-140.894 94.4469,-140.894 94.4469,-104.894 148.447,-104.894 148.447,-140.894\" stroke=\"black\"/>\n",
       "<text font-family=\"Times,serif\" font-size=\"14.00\" text-anchor=\"middle\" x=\"121.447\" y=\"-119.194\">1</text>\n",
       "</g>\n",
       "<!-- &#45;4434476267590316352 -->\n",
       "<g class=\"node\" id=\"node4\"><title>-4434476267590316352</title>\n",
       "<ellipse cx=\"121.447\" cy=\"-34.4469\" fill=\"none\" rx=\"34.394\" ry=\"34.394\" stroke=\"black\"/>\n",
       "<text font-family=\"Times,serif\" font-size=\"14.00\" text-anchor=\"middle\" x=\"121.447\" y=\"-30.7469\">arange</text>\n",
       "</g>\n",
       "<!-- &#45;4434476267590316352&#45;&gt;8408657451555351615 -->\n",
       "<g class=\"edge\" id=\"edge2\"><title>-4434476267590316352-&gt;8408657451555351615</title>\n",
       "<path d=\"M121.447,-69.1171C121.447,-77.5557 121.447,-86.5057 121.447,-94.5916\" fill=\"none\" stroke=\"black\"/>\n",
       "<polygon fill=\"black\" points=\"117.947,-94.6078 121.447,-104.608 124.947,-94.6079 117.947,-94.6078\" stroke=\"black\"/>\n",
       "</g>\n",
       "</g>\n",
       "</svg>"
      ],
      "text/plain": [
       "<IPython.core.display.SVG object>"
      ]
     },
     "execution_count": 7,
     "metadata": {},
     "output_type": "execute_result"
    }
   ],
   "source": [
    "x = da.arange(10, chunks=(5,))\n",
    "x.visualize('dask.svg')"
   ]
  },
  {
   "cell_type": "code",
   "execution_count": 8,
   "metadata": {},
   "outputs": [
    {
     "data": {
      "text/plain": [
       "((5, 5),)"
      ]
     },
     "execution_count": 8,
     "metadata": {},
     "output_type": "execute_result"
    }
   ],
   "source": [
    "x.chunks"
   ]
  },
  {
   "cell_type": "markdown",
   "metadata": {},
   "source": [
    "### Convert NumPy array to Dask array"
   ]
  },
  {
   "cell_type": "code",
   "execution_count": 9,
   "metadata": {},
   "outputs": [
    {
     "data": {
      "text/plain": [
       "(numpy.ndarray, dask.array.core.Array)"
      ]
     },
     "execution_count": 9,
     "metadata": {},
     "output_type": "execute_result"
    }
   ],
   "source": [
    "#numpy array\n",
    "x = np.arange(1000)\n",
    "\n",
    "#dask array\n",
    "y = da.from_array(x, chunks=(100))\n",
    "\n",
    "type(x), type(y)"
   ]
  },
  {
   "cell_type": "code",
   "execution_count": 10,
   "metadata": {},
   "outputs": [
    {
     "data": {
      "text/plain": [
       "499.5"
      ]
     },
     "execution_count": 10,
     "metadata": {},
     "output_type": "execute_result"
    }
   ],
   "source": [
    "y.mean().compute()"
   ]
  },
  {
   "cell_type": "code",
   "execution_count": 11,
   "metadata": {},
   "outputs": [
    {
     "data": {
      "text/plain": [
       "dask.array<arange, shape=(10,), dtype=int64, chunksize=(5,)>"
      ]
     },
     "execution_count": 11,
     "metadata": {},
     "output_type": "execute_result"
    }
   ],
   "source": [
    "x=da.arange(10, chunks=(5))\n",
    "x"
   ]
  },
  {
   "cell_type": "code",
   "execution_count": 12,
   "metadata": {},
   "outputs": [
    {
     "data": {
      "text/plain": [
       "array([0, 1, 2, 3, 4, 5, 6, 7, 8, 9])"
      ]
     },
     "execution_count": 12,
     "metadata": {},
     "output_type": "execute_result"
    }
   ],
   "source": [
    "x.compute()"
   ]
  },
  {
   "cell_type": "code",
   "execution_count": 13,
   "metadata": {},
   "outputs": [
    {
     "data": {
      "image/svg+xml": [
       "<svg height=\"149pt\" viewBox=\"0.00 0.00 163.89 148.89\" width=\"164pt\" xmlns=\"http://www.w3.org/2000/svg\" xmlns:xlink=\"http://www.w3.org/1999/xlink\">\n",
       "<g class=\"graph\" id=\"graph0\" transform=\"scale(1 1) rotate(0) translate(4 144.894)\">\n",
       "<title>%3</title>\n",
       "<polygon fill=\"white\" points=\"-4,4 -4,-144.894 159.894,-144.894 159.894,4 -4,4\" stroke=\"none\"/>\n",
       "<!-- 8408657451556434140 -->\n",
       "<g class=\"node\" id=\"node1\"><title>8408657451556434140</title>\n",
       "<polygon fill=\"none\" points=\"61.4469,-140.894 7.44694,-140.894 7.44694,-104.894 61.4469,-104.894 61.4469,-140.894\" stroke=\"black\"/>\n",
       "<text font-family=\"Times,serif\" font-size=\"14.00\" text-anchor=\"middle\" x=\"34.4469\" y=\"-119.194\">0</text>\n",
       "</g>\n",
       "<!-- 5727286924704767339 -->\n",
       "<g class=\"node\" id=\"node2\"><title>5727286924704767339</title>\n",
       "<ellipse cx=\"34.4469\" cy=\"-34.4469\" fill=\"none\" rx=\"34.394\" ry=\"34.394\" stroke=\"black\"/>\n",
       "<text font-family=\"Times,serif\" font-size=\"14.00\" text-anchor=\"middle\" x=\"34.4469\" y=\"-30.7469\">arange</text>\n",
       "</g>\n",
       "<!-- 5727286924704767339&#45;&gt;8408657451556434140 -->\n",
       "<g class=\"edge\" id=\"edge1\"><title>5727286924704767339-&gt;8408657451556434140</title>\n",
       "<path d=\"M34.4469,-69.1171C34.4469,-77.5557 34.4469,-86.5057 34.4469,-94.5916\" fill=\"none\" stroke=\"black\"/>\n",
       "<polygon fill=\"black\" points=\"30.947,-94.6078 34.4469,-104.608 37.947,-94.6079 30.947,-94.6078\" stroke=\"black\"/>\n",
       "</g>\n",
       "<!-- 8408657451555351615 -->\n",
       "<g class=\"node\" id=\"node3\"><title>8408657451555351615</title>\n",
       "<polygon fill=\"none\" points=\"148.447,-140.894 94.4469,-140.894 94.4469,-104.894 148.447,-104.894 148.447,-140.894\" stroke=\"black\"/>\n",
       "<text font-family=\"Times,serif\" font-size=\"14.00\" text-anchor=\"middle\" x=\"121.447\" y=\"-119.194\">1</text>\n",
       "</g>\n",
       "<!-- &#45;4434476267590316352 -->\n",
       "<g class=\"node\" id=\"node4\"><title>-4434476267590316352</title>\n",
       "<ellipse cx=\"121.447\" cy=\"-34.4469\" fill=\"none\" rx=\"34.394\" ry=\"34.394\" stroke=\"black\"/>\n",
       "<text font-family=\"Times,serif\" font-size=\"14.00\" text-anchor=\"middle\" x=\"121.447\" y=\"-30.7469\">arange</text>\n",
       "</g>\n",
       "<!-- &#45;4434476267590316352&#45;&gt;8408657451555351615 -->\n",
       "<g class=\"edge\" id=\"edge2\"><title>-4434476267590316352-&gt;8408657451555351615</title>\n",
       "<path d=\"M121.447,-69.1171C121.447,-77.5557 121.447,-86.5057 121.447,-94.5916\" fill=\"none\" stroke=\"black\"/>\n",
       "<polygon fill=\"black\" points=\"117.947,-94.6078 121.447,-104.608 124.947,-94.6079 117.947,-94.6078\" stroke=\"black\"/>\n",
       "</g>\n",
       "</g>\n",
       "</svg>"
      ],
      "text/plain": [
       "<IPython.core.display.SVG object>"
      ]
     },
     "execution_count": 13,
     "metadata": {},
     "output_type": "execute_result"
    }
   ],
   "source": [
    "x.visualize('dask.svg')"
   ]
  },
  {
   "cell_type": "code",
   "execution_count": 14,
   "metadata": {},
   "outputs": [
    {
     "data": {
      "text/plain": [
       "array([ 0,  1,  2,  3,  4,  5,  6,  7,  8,  9, 10])"
      ]
     },
     "execution_count": 14,
     "metadata": {},
     "output_type": "execute_result"
    }
   ],
   "source": [
    "x=da.arange(11, chunks=(5))\n",
    "x.compute()"
   ]
  },
  {
   "cell_type": "code",
   "execution_count": 15,
   "metadata": {
    "scrolled": true
   },
   "outputs": [
    {
     "data": {
      "text/plain": [
       "((5, 5, 1),)"
      ]
     },
     "execution_count": 15,
     "metadata": {},
     "output_type": "execute_result"
    }
   ],
   "source": [
    "x.chunks"
   ]
  },
  {
   "cell_type": "code",
   "execution_count": 16,
   "metadata": {},
   "outputs": [
    {
     "data": {
      "image/svg+xml": [
       "<svg height=\"149pt\" viewBox=\"0.00 0.00 250.89 148.89\" width=\"251pt\" xmlns=\"http://www.w3.org/2000/svg\" xmlns:xlink=\"http://www.w3.org/1999/xlink\">\n",
       "<g class=\"graph\" id=\"graph0\" transform=\"scale(1 1) rotate(0) translate(4 144.894)\">\n",
       "<title>%3</title>\n",
       "<polygon fill=\"white\" points=\"-4,4 -4,-144.894 246.894,-144.894 246.894,4 -4,4\" stroke=\"none\"/>\n",
       "<!-- 2403690959402663816 -->\n",
       "<g class=\"node\" id=\"node1\"><title>2403690959402663816</title>\n",
       "<polygon fill=\"none\" points=\"61.4469,-140.894 7.44694,-140.894 7.44694,-104.894 61.4469,-104.894 61.4469,-140.894\" stroke=\"black\"/>\n",
       "<text font-family=\"Times,serif\" font-size=\"14.00\" text-anchor=\"middle\" x=\"34.4469\" y=\"-119.194\">0</text>\n",
       "</g>\n",
       "<!-- &#45;3152271327096402345 -->\n",
       "<g class=\"node\" id=\"node2\"><title>-3152271327096402345</title>\n",
       "<ellipse cx=\"34.4469\" cy=\"-34.4469\" fill=\"none\" rx=\"34.394\" ry=\"34.394\" stroke=\"black\"/>\n",
       "<text font-family=\"Times,serif\" font-size=\"14.00\" text-anchor=\"middle\" x=\"34.4469\" y=\"-30.7469\">arange</text>\n",
       "</g>\n",
       "<!-- &#45;3152271327096402345&#45;&gt;2403690959402663816 -->\n",
       "<g class=\"edge\" id=\"edge1\"><title>-3152271327096402345-&gt;2403690959402663816</title>\n",
       "<path d=\"M34.4469,-69.1171C34.4469,-77.5557 34.4469,-86.5057 34.4469,-94.5916\" fill=\"none\" stroke=\"black\"/>\n",
       "<polygon fill=\"black\" points=\"30.947,-94.6078 34.4469,-104.608 37.947,-94.6079 30.947,-94.6078\" stroke=\"black\"/>\n",
       "</g>\n",
       "<!-- 2403690959401581291 -->\n",
       "<g class=\"node\" id=\"node3\"><title>2403690959401581291</title>\n",
       "<polygon fill=\"none\" points=\"148.447,-140.894 94.4469,-140.894 94.4469,-104.894 148.447,-104.894 148.447,-140.894\" stroke=\"black\"/>\n",
       "<text font-family=\"Times,serif\" font-size=\"14.00\" text-anchor=\"middle\" x=\"121.447\" y=\"-119.194\">1</text>\n",
       "</g>\n",
       "<!-- &#45;6627374250914769620 -->\n",
       "<g class=\"node\" id=\"node4\"><title>-6627374250914769620</title>\n",
       "<ellipse cx=\"121.447\" cy=\"-34.4469\" fill=\"none\" rx=\"34.394\" ry=\"34.394\" stroke=\"black\"/>\n",
       "<text font-family=\"Times,serif\" font-size=\"14.00\" text-anchor=\"middle\" x=\"121.447\" y=\"-30.7469\">arange</text>\n",
       "</g>\n",
       "<!-- &#45;6627374250914769620&#45;&gt;2403690959401581291 -->\n",
       "<g class=\"edge\" id=\"edge2\"><title>-6627374250914769620-&gt;2403690959401581291</title>\n",
       "<path d=\"M121.447,-69.1171C121.447,-77.5557 121.447,-86.5057 121.447,-94.5916\" fill=\"none\" stroke=\"black\"/>\n",
       "<polygon fill=\"black\" points=\"117.947,-94.6078 121.447,-104.608 124.947,-94.6079 117.947,-94.6078\" stroke=\"black\"/>\n",
       "</g>\n",
       "<!-- 2403690959404828866 -->\n",
       "<g class=\"node\" id=\"node5\"><title>2403690959404828866</title>\n",
       "<polygon fill=\"none\" points=\"235.447,-140.894 181.447,-140.894 181.447,-104.894 235.447,-104.894 235.447,-140.894\" stroke=\"black\"/>\n",
       "<text font-family=\"Times,serif\" font-size=\"14.00\" text-anchor=\"middle\" x=\"208.447\" y=\"-119.194\">2</text>\n",
       "</g>\n",
       "<!-- &#45;1102216703877587995 -->\n",
       "<g class=\"node\" id=\"node6\"><title>-1102216703877587995</title>\n",
       "<ellipse cx=\"208.447\" cy=\"-34.4469\" fill=\"none\" rx=\"34.394\" ry=\"34.394\" stroke=\"black\"/>\n",
       "<text font-family=\"Times,serif\" font-size=\"14.00\" text-anchor=\"middle\" x=\"208.447\" y=\"-30.7469\">arange</text>\n",
       "</g>\n",
       "<!-- &#45;1102216703877587995&#45;&gt;2403690959404828866 -->\n",
       "<g class=\"edge\" id=\"edge3\"><title>-1102216703877587995-&gt;2403690959404828866</title>\n",
       "<path d=\"M208.447,-69.1171C208.447,-77.5557 208.447,-86.5057 208.447,-94.5916\" fill=\"none\" stroke=\"black\"/>\n",
       "<polygon fill=\"black\" points=\"204.947,-94.6078 208.447,-104.608 211.947,-94.6079 204.947,-94.6078\" stroke=\"black\"/>\n",
       "</g>\n",
       "</g>\n",
       "</svg>"
      ],
      "text/plain": [
       "<IPython.core.display.SVG object>"
      ]
     },
     "execution_count": 16,
     "metadata": {},
     "output_type": "execute_result"
    }
   ],
   "source": [
    "x.visualize('array.svg')"
   ]
  },
  {
   "cell_type": "markdown",
   "metadata": {},
   "source": [
    "### Similar API"
   ]
  },
  {
   "cell_type": "code",
   "execution_count": 17,
   "metadata": {},
   "outputs": [
    {
     "data": {
      "text/plain": [
       "55"
      ]
     },
     "execution_count": 17,
     "metadata": {},
     "output_type": "execute_result"
    }
   ],
   "source": [
    "x=da.arange(11, chunks=(5)) #0 to 10\n",
    "x.sum().compute()"
   ]
  },
  {
   "cell_type": "code",
   "execution_count": 18,
   "metadata": {},
   "outputs": [
    {
     "data": {
      "text/plain": [
       "5.0"
      ]
     },
     "execution_count": 18,
     "metadata": {},
     "output_type": "execute_result"
    }
   ],
   "source": [
    "x=da.arange(11, chunks=(5))\n",
    "x.mean().compute()       #55/10"
   ]
  },
  {
   "cell_type": "markdown",
   "metadata": {},
   "source": [
    "## PENDING"
   ]
  },
  {
   "cell_type": "code",
   "execution_count": 19,
   "metadata": {
    "scrolled": false
   },
   "outputs": [
    {
     "data": {
      "text/plain": [
       "array([[ 1,  2,  3],\n",
       "       [ 4,  5,  6],\n",
       "       [ 3,  3,  3],\n",
       "       [ 2, 43,  5],\n",
       "       [23,  5,  2]], dtype=int32)"
      ]
     },
     "execution_count": 19,
     "metadata": {},
     "output_type": "execute_result"
    }
   ],
   "source": [
    "x = np.array([[1, 2, 3], [4, 5, 6], [3,3,3], [2,43,5], [23,5,2]], np.int32)\n",
    "x"
   ]
  },
  {
   "cell_type": "code",
   "execution_count": 20,
   "metadata": {
    "scrolled": true
   },
   "outputs": [
    {
     "data": {
      "text/plain": [
       "array([[ 1,  2,  3],\n",
       "       [ 4,  5,  6],\n",
       "       [ 3,  3,  3],\n",
       "       [ 2, 43,  5],\n",
       "       [23,  5,  2]], dtype=int32)"
      ]
     },
     "execution_count": 20,
     "metadata": {},
     "output_type": "execute_result"
    }
   ],
   "source": [
    "y = da.from_array(x, chunks=(2))\n",
    "y.compute()"
   ]
  },
  {
   "cell_type": "code",
   "execution_count": 21,
   "metadata": {},
   "outputs": [
    {
     "data": {
      "text/plain": [
       "(numpy.ndarray, dask.array.core.Array)"
      ]
     },
     "execution_count": 21,
     "metadata": {},
     "output_type": "execute_result"
    }
   ],
   "source": [
    "type(x), type(y)"
   ]
  },
  {
   "cell_type": "code",
   "execution_count": 22,
   "metadata": {},
   "outputs": [
    {
     "data": {
      "image/svg+xml": [
       "<svg height=\"209pt\" viewBox=\"0.00 0.00 440.19 209.19\" width=\"440pt\" xmlns=\"http://www.w3.org/2000/svg\" xmlns:xlink=\"http://www.w3.org/1999/xlink\">\n",
       "<g class=\"graph\" id=\"graph0\" transform=\"scale(1 1) rotate(0) translate(4 205.195)\">\n",
       "<title>%3</title>\n",
       "<polygon fill=\"white\" points=\"-4,4 -4,-205.195 436.195,-205.195 436.195,4 -4,4\" stroke=\"none\"/>\n",
       "<!-- 2583207192445891755 -->\n",
       "<g class=\"node\" id=\"node1\"><title>2583207192445891755</title>\n",
       "<polygon fill=\"none\" points=\"55.5975,-201.195 1.59746,-201.195 1.59746,-165.195 55.5975,-165.195 55.5975,-201.195\" stroke=\"black\"/>\n",
       "<text font-family=\"Times,serif\" font-size=\"14.00\" text-anchor=\"middle\" x=\"28.5975\" y=\"-179.495\">(0, 0)</text>\n",
       "</g>\n",
       "<!-- 6409765243080144236 -->\n",
       "<g class=\"node\" id=\"node2\"><title>6409765243080144236</title>\n",
       "<ellipse cx=\"28.5975\" cy=\"-100.597\" fill=\"none\" rx=\"28.6953\" ry=\"28.6953\" stroke=\"black\"/>\n",
       "<text font-family=\"Times,serif\" font-size=\"14.00\" text-anchor=\"middle\" x=\"28.5975\" y=\"-96.8975\">array</text>\n",
       "</g>\n",
       "<!-- 6409765243080144236&#45;&gt;2583207192445891755 -->\n",
       "<g class=\"edge\" id=\"edge1\"><title>6409765243080144236-&gt;2583207192445891755</title>\n",
       "<path d=\"M28.5975,-129.335C28.5975,-137.566 28.5975,-146.575 28.5975,-154.786\" fill=\"none\" stroke=\"black\"/>\n",
       "<polygon fill=\"black\" points=\"25.0976,-154.988 28.5975,-164.988 32.0976,-154.988 25.0976,-154.988\" stroke=\"black\"/>\n",
       "</g>\n",
       "<!-- &#45;506890782857086884 -->\n",
       "<g class=\"node\" id=\"node3\"><title>-506890782857086884</title>\n",
       "<polygon fill=\"none\" points=\"242.597,-36 188.597,-36 188.597,-0 242.597,-0 242.597,-36\" stroke=\"black\"/>\n",
       "</g>\n",
       "<!-- &#45;506890782857086884&#45;&gt;6409765243080144236 -->\n",
       "<g class=\"edge\" id=\"edge2\"><title>-506890782857086884-&gt;6409765243080144236</title>\n",
       "<path d=\"M188.569,-25.8888C157.724,-34.3453 106.289,-50.2825 65.5975,-72 63.3086,-73.2216 61.0069,-74.5755 58.7323,-76.0089\" fill=\"none\" stroke=\"black\"/>\n",
       "<polygon fill=\"black\" points=\"56.4838,-73.3051 50.1773,-81.8185 60.4163,-79.096 56.4838,-73.3051\" stroke=\"black\"/>\n",
       "</g>\n",
       "<!-- 7310724970012696611 -->\n",
       "<g class=\"node\" id=\"node5\"><title>7310724970012696611</title>\n",
       "<ellipse cx=\"103.597\" cy=\"-100.597\" fill=\"none\" rx=\"28.6953\" ry=\"28.6953\" stroke=\"black\"/>\n",
       "<text font-family=\"Times,serif\" font-size=\"14.00\" text-anchor=\"middle\" x=\"103.597\" y=\"-96.8975\">array</text>\n",
       "</g>\n",
       "<!-- &#45;506890782857086884&#45;&gt;7310724970012696611 -->\n",
       "<g class=\"edge\" id=\"edge4\"><title>-506890782857086884-&gt;7310724970012696611</title>\n",
       "<path d=\"M191.165,-36.0286C176.448,-46.3449 157.37,-59.8219 140.597,-72 138.555,-73.4831 136.455,-75.0191 134.342,-76.5725\" fill=\"none\" stroke=\"black\"/>\n",
       "<polygon fill=\"black\" points=\"132.186,-73.8141 126.228,-82.575 136.349,-79.4417 132.186,-73.8141\" stroke=\"black\"/>\n",
       "</g>\n",
       "<!-- 1727220992699842005 -->\n",
       "<g class=\"node\" id=\"node7\"><title>1727220992699842005</title>\n",
       "<ellipse cx=\"178.597\" cy=\"-100.597\" fill=\"none\" rx=\"28.6953\" ry=\"28.6953\" stroke=\"black\"/>\n",
       "<text font-family=\"Times,serif\" font-size=\"14.00\" text-anchor=\"middle\" x=\"178.597\" y=\"-96.8975\">array</text>\n",
       "</g>\n",
       "<!-- &#45;506890782857086884&#45;&gt;1727220992699842005 -->\n",
       "<g class=\"edge\" id=\"edge6\"><title>-506890782857086884-&gt;1727220992699842005</title>\n",
       "<path d=\"M207.751,-36.0926C203.893,-44.4968 199.097,-54.9435 194.516,-64.9213\" fill=\"none\" stroke=\"black\"/>\n",
       "<polygon fill=\"black\" points=\"191.22,-63.7135 190.228,-74.2618 197.581,-66.634 191.22,-63.7135\" stroke=\"black\"/>\n",
       "</g>\n",
       "<!-- 324068214062859230 -->\n",
       "<g class=\"node\" id=\"node9\"><title>324068214062859230</title>\n",
       "<ellipse cx=\"253.597\" cy=\"-100.597\" fill=\"none\" rx=\"28.6953\" ry=\"28.6953\" stroke=\"black\"/>\n",
       "<text font-family=\"Times,serif\" font-size=\"14.00\" text-anchor=\"middle\" x=\"253.597\" y=\"-96.8975\">array</text>\n",
       "</g>\n",
       "<!-- &#45;506890782857086884&#45;&gt;324068214062859230 -->\n",
       "<g class=\"edge\" id=\"edge8\"><title>-506890782857086884-&gt;324068214062859230</title>\n",
       "<path d=\"M223.656,-36.0926C227.619,-44.4968 232.544,-54.9435 237.248,-64.9213\" fill=\"none\" stroke=\"black\"/>\n",
       "<polygon fill=\"black\" points=\"234.222,-66.7093 241.652,-74.2618 240.553,-63.7241 234.222,-66.7093\" stroke=\"black\"/>\n",
       "</g>\n",
       "<!-- 3159886684443531006 -->\n",
       "<g class=\"node\" id=\"node11\"><title>3159886684443531006</title>\n",
       "<ellipse cx=\"328.597\" cy=\"-100.597\" fill=\"none\" rx=\"28.6953\" ry=\"28.6953\" stroke=\"black\"/>\n",
       "<text font-family=\"Times,serif\" font-size=\"14.00\" text-anchor=\"middle\" x=\"328.597\" y=\"-96.8975\">array</text>\n",
       "</g>\n",
       "<!-- &#45;506890782857086884&#45;&gt;3159886684443531006 -->\n",
       "<g class=\"edge\" id=\"edge10\"><title>-506890782857086884-&gt;3159886684443531006</title>\n",
       "<path d=\"M240.727,-36.2264C255.602,-46.4973 274.768,-59.8602 291.597,-72 293.645,-73.4768 295.748,-75.008 297.863,-76.5578\" fill=\"none\" stroke=\"black\"/>\n",
       "<polygon fill=\"black\" points=\"295.86,-79.4289 305.984,-82.5524 300.017,-73.7973 295.86,-79.4289\" stroke=\"black\"/>\n",
       "</g>\n",
       "<!-- 5178826279113409781 -->\n",
       "<g class=\"node\" id=\"node13\"><title>5178826279113409781</title>\n",
       "<ellipse cx=\"403.597\" cy=\"-100.597\" fill=\"none\" rx=\"28.6953\" ry=\"28.6953\" stroke=\"black\"/>\n",
       "<text font-family=\"Times,serif\" font-size=\"14.00\" text-anchor=\"middle\" x=\"403.597\" y=\"-96.8975\">array</text>\n",
       "</g>\n",
       "<!-- &#45;506890782857086884&#45;&gt;5178826279113409781 -->\n",
       "<g class=\"edge\" id=\"edge12\"><title>-506890782857086884-&gt;5178826279113409781</title>\n",
       "<path d=\"M242.809,-25.8576C273.862,-34.2854 325.642,-50.1963 366.597,-72 368.888,-73.2192 371.19,-74.5714 373.466,-76.0034\" fill=\"none\" stroke=\"black\"/>\n",
       "<polygon fill=\"black\" points=\"371.782,-79.0909 382.022,-81.8102 375.713,-73.2987 371.782,-79.0909\" stroke=\"black\"/>\n",
       "</g>\n",
       "<!-- 2583207192447056804 -->\n",
       "<g class=\"node\" id=\"node4\"><title>2583207192447056804</title>\n",
       "<polygon fill=\"none\" points=\"130.597,-201.195 76.5975,-201.195 76.5975,-165.195 130.597,-165.195 130.597,-201.195\" stroke=\"black\"/>\n",
       "<text font-family=\"Times,serif\" font-size=\"14.00\" text-anchor=\"middle\" x=\"103.597\" y=\"-179.495\">(0, 1)</text>\n",
       "</g>\n",
       "<!-- 7310724970012696611&#45;&gt;2583207192447056804 -->\n",
       "<g class=\"edge\" id=\"edge3\"><title>7310724970012696611-&gt;2583207192447056804</title>\n",
       "<path d=\"M103.597,-129.335C103.597,-137.566 103.597,-146.575 103.597,-154.786\" fill=\"none\" stroke=\"black\"/>\n",
       "<polygon fill=\"black\" points=\"100.098,-154.988 103.597,-164.988 107.098,-154.988 100.098,-154.988\" stroke=\"black\"/>\n",
       "</g>\n",
       "<!-- 2583208453642890578 -->\n",
       "<g class=\"node\" id=\"node6\"><title>2583208453642890578</title>\n",
       "<polygon fill=\"none\" points=\"205.597,-201.195 151.597,-201.195 151.597,-165.195 205.597,-165.195 205.597,-201.195\" stroke=\"black\"/>\n",
       "<text font-family=\"Times,serif\" font-size=\"14.00\" text-anchor=\"middle\" x=\"178.597\" y=\"-179.495\">(1, 0)</text>\n",
       "</g>\n",
       "<!-- 1727220992699842005&#45;&gt;2583208453642890578 -->\n",
       "<g class=\"edge\" id=\"edge5\"><title>1727220992699842005-&gt;2583208453642890578</title>\n",
       "<path d=\"M178.597,-129.335C178.597,-137.566 178.597,-146.575 178.597,-154.786\" fill=\"none\" stroke=\"black\"/>\n",
       "<polygon fill=\"black\" points=\"175.098,-154.988 178.597,-164.988 182.098,-154.988 175.098,-154.988\" stroke=\"black\"/>\n",
       "</g>\n",
       "<!-- 2583208453641725529 -->\n",
       "<g class=\"node\" id=\"node8\"><title>2583208453641725529</title>\n",
       "<polygon fill=\"none\" points=\"280.597,-201.195 226.597,-201.195 226.597,-165.195 280.597,-165.195 280.597,-201.195\" stroke=\"black\"/>\n",
       "<text font-family=\"Times,serif\" font-size=\"14.00\" text-anchor=\"middle\" x=\"253.597\" y=\"-179.495\">(1, 1)</text>\n",
       "</g>\n",
       "<!-- 324068214062859230&#45;&gt;2583208453641725529 -->\n",
       "<g class=\"edge\" id=\"edge7\"><title>324068214062859230-&gt;2583208453641725529</title>\n",
       "<path d=\"M253.597,-129.335C253.597,-137.566 253.597,-146.575 253.597,-154.786\" fill=\"none\" stroke=\"black\"/>\n",
       "<polygon fill=\"black\" points=\"250.098,-154.988 253.597,-164.988 257.098,-154.988 250.098,-154.988\" stroke=\"black\"/>\n",
       "</g>\n",
       "<!-- 2583209714839889401 -->\n",
       "<g class=\"node\" id=\"node10\"><title>2583209714839889401</title>\n",
       "<polygon fill=\"none\" points=\"355.597,-201.195 301.597,-201.195 301.597,-165.195 355.597,-165.195 355.597,-201.195\" stroke=\"black\"/>\n",
       "<text font-family=\"Times,serif\" font-size=\"14.00\" text-anchor=\"middle\" x=\"328.597\" y=\"-179.495\">(2, 0)</text>\n",
       "</g>\n",
       "<!-- 3159886684443531006&#45;&gt;2583209714839889401 -->\n",
       "<g class=\"edge\" id=\"edge9\"><title>3159886684443531006-&gt;2583209714839889401</title>\n",
       "<path d=\"M328.597,-129.335C328.597,-137.566 328.597,-146.575 328.597,-154.786\" fill=\"none\" stroke=\"black\"/>\n",
       "<polygon fill=\"black\" points=\"325.098,-154.988 328.597,-164.988 332.098,-154.988 325.098,-154.988\" stroke=\"black\"/>\n",
       "</g>\n",
       "<!-- 2583209714841054450 -->\n",
       "<g class=\"node\" id=\"node12\"><title>2583209714841054450</title>\n",
       "<polygon fill=\"none\" points=\"430.597,-201.195 376.597,-201.195 376.597,-165.195 430.597,-165.195 430.597,-201.195\" stroke=\"black\"/>\n",
       "<text font-family=\"Times,serif\" font-size=\"14.00\" text-anchor=\"middle\" x=\"403.597\" y=\"-179.495\">(2, 1)</text>\n",
       "</g>\n",
       "<!-- 5178826279113409781&#45;&gt;2583209714841054450 -->\n",
       "<g class=\"edge\" id=\"edge11\"><title>5178826279113409781-&gt;2583209714841054450</title>\n",
       "<path d=\"M403.597,-129.335C403.597,-137.566 403.597,-146.575 403.597,-154.786\" fill=\"none\" stroke=\"black\"/>\n",
       "<polygon fill=\"black\" points=\"400.098,-154.988 403.597,-164.988 407.098,-154.988 400.098,-154.988\" stroke=\"black\"/>\n",
       "</g>\n",
       "</g>\n",
       "</svg>"
      ],
      "text/plain": [
       "<IPython.core.display.SVG object>"
      ]
     },
     "execution_count": 22,
     "metadata": {},
     "output_type": "execute_result"
    }
   ],
   "source": [
    "y.visualize('dask.svg')"
   ]
  },
  {
   "cell_type": "code",
   "execution_count": 23,
   "metadata": {
    "scrolled": false
   },
   "outputs": [
    {
     "data": {
      "text/plain": [
       "[[1, 2, 3], [4, 5, 6]]"
      ]
     },
     "execution_count": 23,
     "metadata": {},
     "output_type": "execute_result"
    }
   ],
   "source": [
    "x = da.array([[1, 2, 3], [4, 5, 6]])\n",
    "x"
   ]
  },
  {
   "cell_type": "code",
   "execution_count": 24,
   "metadata": {},
   "outputs": [
    {
     "data": {
      "image/svg+xml": [
       "<svg height=\"288pt\" viewBox=\"0.00 0.00 134.00 288.09\" width=\"134pt\" xmlns=\"http://www.w3.org/2000/svg\" xmlns:xlink=\"http://www.w3.org/1999/xlink\">\n",
       "<g class=\"graph\" id=\"graph0\" transform=\"scale(1 1) rotate(0) translate(4 284.091)\">\n",
       "<title>%3</title>\n",
       "<polygon fill=\"white\" points=\"-4,4 -4,-284.091 130,-284.091 130,4 -4,4\" stroke=\"none\"/>\n",
       "<!-- &#45;6061667702850876 -->\n",
       "<g class=\"node\" id=\"node1\"><title>-6061667702850876</title>\n",
       "<polygon fill=\"none\" points=\"54,-280.091 0,-280.091 0,-244.091 54,-244.091 54,-280.091\" stroke=\"black\"/>\n",
       "<text font-family=\"Times,serif\" font-size=\"14.00\" text-anchor=\"middle\" x=\"27\" y=\"-258.391\">0</text>\n",
       "</g>\n",
       "<!-- 4892913009320896835 -->\n",
       "<g class=\"node\" id=\"node2\"><title>4892913009320896835</title>\n",
       "<ellipse cx=\"27\" cy=\"-184.693\" fill=\"none\" rx=\"23.2963\" ry=\"23.2963\" stroke=\"black\"/>\n",
       "<text font-family=\"Times,serif\" font-size=\"14.00\" text-anchor=\"middle\" x=\"27\" y=\"-180.993\">add</text>\n",
       "</g>\n",
       "<!-- 4892913009320896835&#45;&gt;&#45;6061667702850876 -->\n",
       "<g class=\"edge\" id=\"edge1\"><title>4892913009320896835-&gt;-6061667702850876</title>\n",
       "<path d=\"M27,-208.315C27,-216.367 27,-225.517 27,-233.911\" fill=\"none\" stroke=\"black\"/>\n",
       "<polygon fill=\"black\" points=\"23.5001,-234 27,-244 30.5001,-234 23.5001,-234\" stroke=\"black\"/>\n",
       "</g>\n",
       "<!-- &#45;4630448840359049354 -->\n",
       "<g class=\"node\" id=\"node3\"><title>-4630448840359049354</title>\n",
       "<polygon fill=\"none\" points=\"54,-125.295 0,-125.295 0,-89.2953 54,-89.2953 54,-125.295\" stroke=\"black\"/>\n",
       "<text font-family=\"Times,serif\" font-size=\"14.00\" text-anchor=\"middle\" x=\"27\" y=\"-103.595\">0</text>\n",
       "</g>\n",
       "<!-- &#45;4630448840359049354&#45;&gt;4892913009320896835 -->\n",
       "<g class=\"edge\" id=\"edge2\"><title>-4630448840359049354-&gt;4892913009320896835</title>\n",
       "<path d=\"M27,-125.404C27,-133.024 27,-142.263 27,-151.117\" fill=\"none\" stroke=\"black\"/>\n",
       "<polygon fill=\"black\" points=\"23.5001,-151.215 27,-161.215 30.5001,-151.215 23.5001,-151.215\" stroke=\"black\"/>\n",
       "</g>\n",
       "<!-- &#45;6061667703933401 -->\n",
       "<g class=\"node\" id=\"node4\"><title>-6061667703933401</title>\n",
       "<polygon fill=\"none\" points=\"126,-280.091 72,-280.091 72,-244.091 126,-244.091 126,-280.091\" stroke=\"black\"/>\n",
       "<text font-family=\"Times,serif\" font-size=\"14.00\" text-anchor=\"middle\" x=\"99\" y=\"-258.391\">1</text>\n",
       "</g>\n",
       "<!-- 3873485338080721560 -->\n",
       "<g class=\"node\" id=\"node5\"><title>3873485338080721560</title>\n",
       "<ellipse cx=\"99\" cy=\"-184.693\" fill=\"none\" rx=\"23.2963\" ry=\"23.2963\" stroke=\"black\"/>\n",
       "<text font-family=\"Times,serif\" font-size=\"14.00\" text-anchor=\"middle\" x=\"99\" y=\"-180.993\">add</text>\n",
       "</g>\n",
       "<!-- 3873485338080721560&#45;&gt;&#45;6061667703933401 -->\n",
       "<g class=\"edge\" id=\"edge3\"><title>3873485338080721560-&gt;-6061667703933401</title>\n",
       "<path d=\"M99,-208.315C99,-216.367 99,-225.517 99,-233.911\" fill=\"none\" stroke=\"black\"/>\n",
       "<polygon fill=\"black\" points=\"95.5001,-234 99,-244 102.5,-234 95.5001,-234\" stroke=\"black\"/>\n",
       "</g>\n",
       "<!-- &#45;4630448840360131879 -->\n",
       "<g class=\"node\" id=\"node6\"><title>-4630448840360131879</title>\n",
       "<polygon fill=\"none\" points=\"126,-125.295 72,-125.295 72,-89.2953 126,-89.2953 126,-125.295\" stroke=\"black\"/>\n",
       "<text font-family=\"Times,serif\" font-size=\"14.00\" text-anchor=\"middle\" x=\"99\" y=\"-103.595\">1</text>\n",
       "</g>\n",
       "<!-- &#45;4630448840360131879&#45;&gt;3873485338080721560 -->\n",
       "<g class=\"edge\" id=\"edge4\"><title>-4630448840360131879-&gt;3873485338080721560</title>\n",
       "<path d=\"M99,-125.404C99,-133.024 99,-142.263 99,-151.117\" fill=\"none\" stroke=\"black\"/>\n",
       "<polygon fill=\"black\" points=\"95.5001,-151.215 99,-161.215 102.5,-151.215 95.5001,-151.215\" stroke=\"black\"/>\n",
       "</g>\n",
       "<!-- 4788331045932352089 -->\n",
       "<g class=\"node\" id=\"node7\"><title>4788331045932352089</title>\n",
       "<ellipse cx=\"27\" cy=\"-26.6476\" fill=\"none\" rx=\"26.7961\" ry=\"26.7961\" stroke=\"black\"/>\n",
       "<text font-family=\"Times,serif\" font-size=\"14.00\" text-anchor=\"middle\" x=\"27\" y=\"-22.9476\">ones</text>\n",
       "</g>\n",
       "<!-- 4788331045932352089&#45;&gt;&#45;4630448840359049354 -->\n",
       "<g class=\"edge\" id=\"edge5\"><title>4788331045932352089-&gt;-4630448840359049354</title>\n",
       "<path d=\"M27,-53.3998C27,-61.4986 27,-70.4727 27,-78.6944\" fill=\"none\" stroke=\"black\"/>\n",
       "<polygon fill=\"black\" points=\"23.5001,-78.9322 27,-88.9323 30.5001,-78.9323 23.5001,-78.9322\" stroke=\"black\"/>\n",
       "</g>\n",
       "<!-- 3944608000496696414 -->\n",
       "<g class=\"node\" id=\"node8\"><title>3944608000496696414</title>\n",
       "<ellipse cx=\"99\" cy=\"-26.6476\" fill=\"none\" rx=\"26.7961\" ry=\"26.7961\" stroke=\"black\"/>\n",
       "<text font-family=\"Times,serif\" font-size=\"14.00\" text-anchor=\"middle\" x=\"99\" y=\"-22.9476\">ones</text>\n",
       "</g>\n",
       "<!-- 3944608000496696414&#45;&gt;&#45;4630448840360131879 -->\n",
       "<g class=\"edge\" id=\"edge6\"><title>3944608000496696414-&gt;-4630448840360131879</title>\n",
       "<path d=\"M99,-53.3998C99,-61.4986 99,-70.4727 99,-78.6944\" fill=\"none\" stroke=\"black\"/>\n",
       "<polygon fill=\"black\" points=\"95.5001,-78.9322 99,-88.9323 102.5,-78.9323 95.5001,-78.9322\" stroke=\"black\"/>\n",
       "</g>\n",
       "</g>\n",
       "</svg>"
      ],
      "text/plain": [
       "<IPython.core.display.SVG object>"
      ]
     },
     "execution_count": 24,
     "metadata": {},
     "output_type": "execute_result"
    }
   ],
   "source": [
    "x = da.ones(10, chunks=(5))\n",
    "y=x+x\n",
    "y.visualize(filename = 'sdanad.svg')"
   ]
  },
  {
   "cell_type": "code",
   "execution_count": 25,
   "metadata": {},
   "outputs": [
    {
     "data": {
      "text/plain": [
       "((5, 5),)"
      ]
     },
     "execution_count": 25,
     "metadata": {},
     "output_type": "execute_result"
    }
   ],
   "source": [
    "x.chunks"
   ]
  },
  {
   "cell_type": "code",
   "execution_count": 26,
   "metadata": {
    "scrolled": true
   },
   "outputs": [
    {
     "data": {
      "text/plain": [
       "array([ 2.,  2.,  2.,  2.,  2.,  2.,  2.,  2.,  2.,  2.])"
      ]
     },
     "execution_count": 26,
     "metadata": {},
     "output_type": "execute_result"
    }
   ],
   "source": [
    "y.compute()"
   ]
  },
  {
   "cell_type": "code",
   "execution_count": 27,
   "metadata": {},
   "outputs": [
    {
     "data": {
      "image/svg+xml": [
       "<svg height=\"681pt\" viewBox=\"0.00 0.00 1106.20 680.88\" width=\"1106pt\" xmlns=\"http://www.w3.org/2000/svg\" xmlns:xlink=\"http://www.w3.org/1999/xlink\">\n",
       "<g class=\"graph\" id=\"graph0\" transform=\"scale(1 1) rotate(0) translate(4 676.875)\">\n",
       "<title>%3</title>\n",
       "<polygon fill=\"white\" points=\"-4,4 -4,-676.875 1102.2,-676.875 1102.2,4 -4,4\" stroke=\"none\"/>\n",
       "<!-- 5443415060890801477 -->\n",
       "<g class=\"node\" id=\"node1\"><title>5443415060890801477</title>\n",
       "<polygon fill=\"none\" points=\"54,-518.08 0,-518.08 0,-482.08 54,-482.08 54,-518.08\" stroke=\"black\"/>\n",
       "<text font-family=\"Times,serif\" font-size=\"14.00\" text-anchor=\"middle\" x=\"27\" y=\"-496.38\">(0, 0)</text>\n",
       "</g>\n",
       "<!-- &#45;2172303847125243814 -->\n",
       "<g class=\"node\" id=\"node2\"><title>-2172303847125243814</title>\n",
       "<ellipse cx=\"27\" cy=\"-401.884\" fill=\"none\" rx=\"23.2963\" ry=\"23.2963\" stroke=\"black\"/>\n",
       "<text font-family=\"Times,serif\" font-size=\"14.00\" text-anchor=\"middle\" x=\"27\" y=\"-398.184\">add</text>\n",
       "</g>\n",
       "<!-- &#45;2172303847125243814&#45;&gt;5443415060890801477 -->\n",
       "<g class=\"edge\" id=\"edge1\"><title>-2172303847125243814-&gt;5443415060890801477</title>\n",
       "<path d=\"M27,-425.681C27,-439.406 27,-456.973 27,-471.48\" fill=\"none\" stroke=\"black\"/>\n",
       "<polygon fill=\"black\" points=\"23.5001,-471.863 27,-481.863 30.5001,-471.863 23.5001,-471.863\" stroke=\"black\"/>\n",
       "</g>\n",
       "<!-- 5278527865860451456 -->\n",
       "<g class=\"node\" id=\"node3\"><title>5278527865860451456</title>\n",
       "<polygon fill=\"none\" points=\"85,-321.687 31,-321.687 31,-285.687 85,-285.687 85,-321.687\" stroke=\"black\"/>\n",
       "<text font-family=\"Times,serif\" font-size=\"14.00\" text-anchor=\"middle\" x=\"58\" y=\"-299.987\">(0, 0)</text>\n",
       "</g>\n",
       "<!-- 5278527865860451456&#45;&gt;&#45;2172303847125243814 -->\n",
       "<g class=\"edge\" id=\"edge2\"><title>5278527865860451456-&gt;-2172303847125243814</title>\n",
       "<path d=\"M52.4578,-321.885C48.2006,-335.096 42.2053,-353.7 37.1021,-369.536\" fill=\"none\" stroke=\"black\"/>\n",
       "<polygon fill=\"black\" points=\"33.6406,-368.866 33.9046,-379.458 40.3032,-371.014 33.6406,-368.866\" stroke=\"black\"/>\n",
       "</g>\n",
       "<!-- &#45;1941672297012167366 -->\n",
       "<g class=\"node\" id=\"node4\"><title>-1941672297012167366</title>\n",
       "<polygon fill=\"none\" points=\"76,-125.295 22,-125.295 22,-89.2953 76,-89.2953 76,-125.295\" stroke=\"black\"/>\n",
       "<text font-family=\"Times,serif\" font-size=\"14.00\" text-anchor=\"middle\" x=\"49\" y=\"-103.595\">(0, 0)</text>\n",
       "</g>\n",
       "<!-- &#45;1941672297012167366&#45;&gt;&#45;2172303847125243814 -->\n",
       "<g class=\"edge\" id=\"edge3\"><title>-1941672297012167366-&gt;-2172303847125243814</title>\n",
       "<path d=\"M33.8175,-125.592C26.2683,-135.356 17.9337,-148.2 14,-161.295 -7.61477,-233.25 7.67961,-322.739 18.6047,-369.339\" fill=\"none\" stroke=\"black\"/>\n",
       "<polygon fill=\"black\" points=\"15.2267,-370.261 20.9907,-379.151 22.0285,-368.607 15.2267,-370.261\" stroke=\"black\"/>\n",
       "</g>\n",
       "<!-- 9105664000892509663 -->\n",
       "<g class=\"node\" id=\"node46\"><title>9105664000892509663</title>\n",
       "<ellipse cx=\"67\" cy=\"-205.491\" fill=\"none\" rx=\"44.393\" ry=\"44.393\" stroke=\"black\"/>\n",
       "<text font-family=\"Times,serif\" font-size=\"14.00\" text-anchor=\"middle\" x=\"67\" y=\"-201.791\">transpose</text>\n",
       "</g>\n",
       "<!-- &#45;1941672297012167366&#45;&gt;9105664000892509663 -->\n",
       "<g class=\"edge\" id=\"edge38\"><title>-1941672297012167366-&gt;9105664000892509663</title>\n",
       "<path d=\"M52.218,-125.493C53.629,-133.034 55.3688,-142.331 57.1533,-151.868\" fill=\"none\" stroke=\"black\"/>\n",
       "<polygon fill=\"black\" points=\"53.7377,-152.644 59.0173,-161.83 60.6183,-151.357 53.7377,-152.644\" stroke=\"black\"/>\n",
       "</g>\n",
       "<!-- 5443415060891966526 -->\n",
       "<g class=\"node\" id=\"node5\"><title>5443415060891966526</title>\n",
       "<polygon fill=\"none\" points=\"247,-518.08 193,-518.08 193,-482.08 247,-482.08 247,-518.08\" stroke=\"black\"/>\n",
       "<text font-family=\"Times,serif\" font-size=\"14.00\" text-anchor=\"middle\" x=\"220\" y=\"-496.38\">(0, 1)</text>\n",
       "</g>\n",
       "<!-- &#45;2851630762175539439 -->\n",
       "<g class=\"node\" id=\"node6\"><title>-2851630762175539439</title>\n",
       "<ellipse cx=\"220\" cy=\"-401.884\" fill=\"none\" rx=\"23.2963\" ry=\"23.2963\" stroke=\"black\"/>\n",
       "<text font-family=\"Times,serif\" font-size=\"14.00\" text-anchor=\"middle\" x=\"220\" y=\"-398.184\">add</text>\n",
       "</g>\n",
       "<!-- &#45;2851630762175539439&#45;&gt;5443415060891966526 -->\n",
       "<g class=\"edge\" id=\"edge4\"><title>-2851630762175539439-&gt;5443415060891966526</title>\n",
       "<path d=\"M220,-425.681C220,-439.406 220,-456.973 220,-471.48\" fill=\"none\" stroke=\"black\"/>\n",
       "<polygon fill=\"black\" points=\"216.5,-471.863 220,-481.863 223.5,-471.863 216.5,-471.863\" stroke=\"black\"/>\n",
       "</g>\n",
       "<!-- &#45;1941672297013332415 -->\n",
       "<g class=\"node\" id=\"node7\"><title>-1941672297013332415</title>\n",
       "<polygon fill=\"none\" points=\"333,-321.687 279,-321.687 279,-285.687 333,-285.687 333,-321.687\" stroke=\"black\"/>\n",
       "<text font-family=\"Times,serif\" font-size=\"14.00\" text-anchor=\"middle\" x=\"306\" y=\"-299.987\">(0, 1)</text>\n",
       "</g>\n",
       "<!-- &#45;1941672297013332415&#45;&gt;&#45;2851630762175539439 -->\n",
       "<g class=\"edge\" id=\"edge5\"><title>-1941672297013332415-&gt;-2851630762175539439</title>\n",
       "<path d=\"M287.727,-321.787C277.219,-331.903 263.969,-345.153 253,-357.687 248.407,-362.936 243.715,-368.755 239.365,-374.376\" fill=\"none\" stroke=\"black\"/>\n",
       "<polygon fill=\"black\" points=\"236.546,-372.301 233.287,-382.383 242.121,-376.534 236.546,-372.301\" stroke=\"black\"/>\n",
       "</g>\n",
       "<!-- &#45;5875516679122537122 -->\n",
       "<g class=\"node\" id=\"node49\"><title>-5875516679122537122</title>\n",
       "<ellipse cx=\"306\" cy=\"-401.884\" fill=\"none\" rx=\"44.393\" ry=\"44.393\" stroke=\"black\"/>\n",
       "<text font-family=\"Times,serif\" font-size=\"14.00\" text-anchor=\"middle\" x=\"306\" y=\"-398.184\">transpose</text>\n",
       "</g>\n",
       "<!-- &#45;1941672297013332415&#45;&gt;&#45;5875516679122537122 -->\n",
       "<g class=\"edge\" id=\"edge44\"><title>-1941672297013332415-&gt;-5875516679122537122</title>\n",
       "<path d=\"M306,-321.885C306,-329.188 306,-338.138 306,-347.358\" fill=\"none\" stroke=\"black\"/>\n",
       "<polygon fill=\"black\" points=\"302.5,-347.403 306,-357.403 309.5,-347.403 302.5,-347.403\" stroke=\"black\"/>\n",
       "</g>\n",
       "<!-- 5278527865859286407 -->\n",
       "<g class=\"node\" id=\"node8\"><title>5278527865859286407</title>\n",
       "<polygon fill=\"none\" points=\"247,-321.687 193,-321.687 193,-285.687 247,-285.687 247,-321.687\" stroke=\"black\"/>\n",
       "<text font-family=\"Times,serif\" font-size=\"14.00\" text-anchor=\"middle\" x=\"220\" y=\"-299.987\">(0, 1)</text>\n",
       "</g>\n",
       "<!-- 5278527865859286407&#45;&gt;&#45;2851630762175539439 -->\n",
       "<g class=\"edge\" id=\"edge6\"><title>5278527865859286407-&gt;-2851630762175539439</title>\n",
       "<path d=\"M220,-321.885C220,-334.707 220,-352.608 220,-368.129\" fill=\"none\" stroke=\"black\"/>\n",
       "<polygon fill=\"black\" points=\"216.5,-368.402 220,-378.402 223.5,-368.402 216.5,-368.402\" stroke=\"black\"/>\n",
       "</g>\n",
       "<!-- 5443415060888471379 -->\n",
       "<g class=\"node\" id=\"node9\"><title>5443415060888471379</title>\n",
       "<polygon fill=\"none\" points=\"477,-518.08 423,-518.08 423,-482.08 477,-482.08 477,-518.08\" stroke=\"black\"/>\n",
       "<text font-family=\"Times,serif\" font-size=\"14.00\" text-anchor=\"middle\" x=\"450\" y=\"-496.38\">(0, 2)</text>\n",
       "</g>\n",
       "<!-- &#45;5181033333858245564 -->\n",
       "<g class=\"node\" id=\"node10\"><title>-5181033333858245564</title>\n",
       "<ellipse cx=\"450\" cy=\"-401.884\" fill=\"none\" rx=\"23.2963\" ry=\"23.2963\" stroke=\"black\"/>\n",
       "<text font-family=\"Times,serif\" font-size=\"14.00\" text-anchor=\"middle\" x=\"450\" y=\"-398.184\">add</text>\n",
       "</g>\n",
       "<!-- &#45;5181033333858245564&#45;&gt;5443415060888471379 -->\n",
       "<g class=\"edge\" id=\"edge7\"><title>-5181033333858245564-&gt;5443415060888471379</title>\n",
       "<path d=\"M450,-425.681C450,-439.406 450,-456.973 450,-471.48\" fill=\"none\" stroke=\"black\"/>\n",
       "<polygon fill=\"black\" points=\"446.5,-471.863 450,-481.863 453.5,-471.863 446.5,-471.863\" stroke=\"black\"/>\n",
       "</g>\n",
       "<!-- &#45;1941672297014497464 -->\n",
       "<g class=\"node\" id=\"node11\"><title>-1941672297014497464</title>\n",
       "<polygon fill=\"none\" points=\"563,-321.687 509,-321.687 509,-285.687 563,-285.687 563,-321.687\" stroke=\"black\"/>\n",
       "<text font-family=\"Times,serif\" font-size=\"14.00\" text-anchor=\"middle\" x=\"536\" y=\"-299.987\">(0, 2)</text>\n",
       "</g>\n",
       "<!-- &#45;1941672297014497464&#45;&gt;&#45;5181033333858245564 -->\n",
       "<g class=\"edge\" id=\"edge8\"><title>-1941672297014497464-&gt;-5181033333858245564</title>\n",
       "<path d=\"M517.727,-321.787C507.219,-331.903 493.969,-345.153 483,-357.687 478.407,-362.936 473.715,-368.755 469.365,-374.376\" fill=\"none\" stroke=\"black\"/>\n",
       "<polygon fill=\"black\" points=\"466.546,-372.301 463.287,-382.383 472.121,-376.534 466.546,-372.301\" stroke=\"black\"/>\n",
       "</g>\n",
       "<!-- 2530837792470906293 -->\n",
       "<g class=\"node\" id=\"node52\"><title>2530837792470906293</title>\n",
       "<ellipse cx=\"536\" cy=\"-401.884\" fill=\"none\" rx=\"44.393\" ry=\"44.393\" stroke=\"black\"/>\n",
       "<text font-family=\"Times,serif\" font-size=\"14.00\" text-anchor=\"middle\" x=\"536\" y=\"-398.184\">transpose</text>\n",
       "</g>\n",
       "<!-- &#45;1941672297014497464&#45;&gt;2530837792470906293 -->\n",
       "<g class=\"edge\" id=\"edge50\"><title>-1941672297014497464-&gt;2530837792470906293</title>\n",
       "<path d=\"M536,-321.885C536,-329.188 536,-338.138 536,-347.358\" fill=\"none\" stroke=\"black\"/>\n",
       "<polygon fill=\"black\" points=\"532.5,-347.403 536,-357.403 539.5,-347.403 532.5,-347.403\" stroke=\"black\"/>\n",
       "</g>\n",
       "<!-- 5278527865862781554 -->\n",
       "<g class=\"node\" id=\"node12\"><title>5278527865862781554</title>\n",
       "<polygon fill=\"none\" points=\"477,-321.687 423,-321.687 423,-285.687 477,-285.687 477,-321.687\" stroke=\"black\"/>\n",
       "<text font-family=\"Times,serif\" font-size=\"14.00\" text-anchor=\"middle\" x=\"450\" y=\"-299.987\">(0, 2)</text>\n",
       "</g>\n",
       "<!-- 5278527865862781554&#45;&gt;&#45;5181033333858245564 -->\n",
       "<g class=\"edge\" id=\"edge9\"><title>5278527865862781554-&gt;-5181033333858245564</title>\n",
       "<path d=\"M450,-321.885C450,-334.707 450,-352.608 450,-368.129\" fill=\"none\" stroke=\"black\"/>\n",
       "<polygon fill=\"black\" points=\"446.5,-368.402 450,-378.402 453.5,-368.402 446.5,-368.402\" stroke=\"black\"/>\n",
       "</g>\n",
       "<!-- 5443416322087800300 -->\n",
       "<g class=\"node\" id=\"node13\"><title>5443416322087800300</title>\n",
       "<polygon fill=\"none\" points=\"251,-672.875 197,-672.875 197,-636.875 251,-636.875 251,-672.875\" stroke=\"black\"/>\n",
       "<text font-family=\"Times,serif\" font-size=\"14.00\" text-anchor=\"middle\" x=\"224\" y=\"-651.175\">(1, 0)</text>\n",
       "</g>\n",
       "<!-- 7584148543116299227 -->\n",
       "<g class=\"node\" id=\"node14\"><title>7584148543116299227</title>\n",
       "<ellipse cx=\"224\" cy=\"-577.478\" fill=\"none\" rx=\"23.2963\" ry=\"23.2963\" stroke=\"black\"/>\n",
       "<text font-family=\"Times,serif\" font-size=\"14.00\" text-anchor=\"middle\" x=\"224\" y=\"-573.778\">add</text>\n",
       "</g>\n",
       "<!-- 7584148543116299227&#45;&gt;5443416322087800300 -->\n",
       "<g class=\"edge\" id=\"edge10\"><title>7584148543116299227-&gt;5443416322087800300</title>\n",
       "<path d=\"M224,-601.099C224,-609.151 224,-618.302 224,-626.696\" fill=\"none\" stroke=\"black\"/>\n",
       "<polygon fill=\"black\" points=\"220.5,-626.784 224,-636.784 227.5,-626.784 220.5,-626.784\" stroke=\"black\"/>\n",
       "</g>\n",
       "<!-- 5278526604663452633 -->\n",
       "<g class=\"node\" id=\"node15\"><title>5278526604663452633</title>\n",
       "<polygon fill=\"none\" points=\"326,-518.08 272,-518.08 272,-482.08 326,-482.08 326,-518.08\" stroke=\"black\"/>\n",
       "<text font-family=\"Times,serif\" font-size=\"14.00\" text-anchor=\"middle\" x=\"299\" y=\"-496.38\">(1, 0)</text>\n",
       "</g>\n",
       "<!-- 5278526604663452633&#45;&gt;7584148543116299227 -->\n",
       "<g class=\"edge\" id=\"edge11\"><title>5278526604663452633-&gt;7584148543116299227</title>\n",
       "<path d=\"M281.981,-518.189C271.798,-528.426 258.708,-541.586 247.543,-552.81\" fill=\"none\" stroke=\"black\"/>\n",
       "<polygon fill=\"black\" points=\"244.751,-550.653 240.18,-560.212 249.714,-555.59 244.751,-550.653\" stroke=\"black\"/>\n",
       "</g>\n",
       "<!-- &#45;1941673558209166189 -->\n",
       "<g class=\"node\" id=\"node16\"><title>-1941673558209166189</title>\n",
       "<polygon fill=\"none\" points=\"184,-125.295 130,-125.295 130,-89.2953 184,-89.2953 184,-125.295\" stroke=\"black\"/>\n",
       "<text font-family=\"Times,serif\" font-size=\"14.00\" text-anchor=\"middle\" x=\"157\" y=\"-103.595\">(1, 0)</text>\n",
       "</g>\n",
       "<!-- &#45;1941673558209166189&#45;&gt;7584148543116299227 -->\n",
       "<g class=\"edge\" id=\"edge12\"><title>-1941673558209166189-&gt;7584148543116299227</title>\n",
       "<path d=\"M155.672,-125.445C153.169,-159.305 148,-237.145 148,-302.687 148,-302.687 148,-302.687 148,-402.884 148,-456.524 160.585,-469.82 184,-518.08 189.435,-529.282 196.834,-540.764 203.79,-550.551\" fill=\"none\" stroke=\"black\"/>\n",
       "<polygon fill=\"black\" points=\"200.998,-552.662 209.729,-558.664 206.647,-548.528 200.998,-552.662\" stroke=\"black\"/>\n",
       "</g>\n",
       "<!-- 6296311659013396088 -->\n",
       "<g class=\"node\" id=\"node47\"><title>6296311659013396088</title>\n",
       "<ellipse cx=\"220\" cy=\"-205.491\" fill=\"none\" rx=\"44.393\" ry=\"44.393\" stroke=\"black\"/>\n",
       "<text font-family=\"Times,serif\" font-size=\"14.00\" text-anchor=\"middle\" x=\"220\" y=\"-201.791\">transpose</text>\n",
       "</g>\n",
       "<!-- &#45;1941673558209166189&#45;&gt;6296311659013396088 -->\n",
       "<g class=\"edge\" id=\"edge40\"><title>-1941673558209166189-&gt;6296311659013396088</title>\n",
       "<path d=\"M168.263,-125.493C174.472,-134.973 182.499,-147.231 190.371,-159.25\" fill=\"none\" stroke=\"black\"/>\n",
       "<polygon fill=\"black\" points=\"187.639,-161.468 196.046,-167.916 193.495,-157.633 187.639,-161.468\" stroke=\"black\"/>\n",
       "</g>\n",
       "<!-- 5443416322086635251 -->\n",
       "<g class=\"node\" id=\"node17\"><title>5443416322086635251</title>\n",
       "<polygon fill=\"none\" points=\"673,-518.08 619,-518.08 619,-482.08 673,-482.08 673,-518.08\" stroke=\"black\"/>\n",
       "<text font-family=\"Times,serif\" font-size=\"14.00\" text-anchor=\"middle\" x=\"646\" y=\"-496.38\">(1, 1)</text>\n",
       "</g>\n",
       "<!-- &#45;2386304773399195164 -->\n",
       "<g class=\"node\" id=\"node18\"><title>-2386304773399195164</title>\n",
       "<ellipse cx=\"646\" cy=\"-401.884\" fill=\"none\" rx=\"23.2963\" ry=\"23.2963\" stroke=\"black\"/>\n",
       "<text font-family=\"Times,serif\" font-size=\"14.00\" text-anchor=\"middle\" x=\"646\" y=\"-398.184\">add</text>\n",
       "</g>\n",
       "<!-- &#45;2386304773399195164&#45;&gt;5443416322086635251 -->\n",
       "<g class=\"edge\" id=\"edge13\"><title>-2386304773399195164-&gt;5443416322086635251</title>\n",
       "<path d=\"M646,-425.681C646,-439.406 646,-456.973 646,-471.48\" fill=\"none\" stroke=\"black\"/>\n",
       "<polygon fill=\"black\" points=\"642.5,-471.863 646,-481.863 649.5,-471.863 642.5,-471.863\" stroke=\"black\"/>\n",
       "</g>\n",
       "<!-- 5278526604664617682 -->\n",
       "<g class=\"node\" id=\"node19\"><title>5278526604664617682</title>\n",
       "<polygon fill=\"none\" points=\"698,-321.687 644,-321.687 644,-285.687 698,-285.687 698,-321.687\" stroke=\"black\"/>\n",
       "<text font-family=\"Times,serif\" font-size=\"14.00\" text-anchor=\"middle\" x=\"671\" y=\"-299.987\">(1, 1)</text>\n",
       "</g>\n",
       "<!-- 5278526604664617682&#45;&gt;&#45;2386304773399195164 -->\n",
       "<g class=\"edge\" id=\"edge14\"><title>5278526604664617682-&gt;-2386304773399195164</title>\n",
       "<path d=\"M666.531,-321.885C663.12,-335.007 658.327,-353.451 654.23,-369.217\" fill=\"none\" stroke=\"black\"/>\n",
       "<polygon fill=\"black\" points=\"650.787,-368.549 651.659,-379.108 657.562,-370.31 650.787,-368.549\" stroke=\"black\"/>\n",
       "</g>\n",
       "<!-- &#45;1941673558208001140 -->\n",
       "<g class=\"node\" id=\"node20\"><title>-1941673558208001140</title>\n",
       "<polygon fill=\"none\" points=\"671,-125.295 617,-125.295 617,-89.2953 671,-89.2953 671,-125.295\" stroke=\"black\"/>\n",
       "<text font-family=\"Times,serif\" font-size=\"14.00\" text-anchor=\"middle\" x=\"644\" y=\"-103.595\">(1, 1)</text>\n",
       "</g>\n",
       "<!-- &#45;1941673558208001140&#45;&gt;&#45;2386304773399195164 -->\n",
       "<g class=\"edge\" id=\"edge15\"><title>-1941673558208001140-&gt;-2386304773399195164</title>\n",
       "<path d=\"M636.934,-125.63C633.162,-135.825 628.912,-149.075 627,-161.295 615.452,-235.108 629.352,-322.873 638.752,-368.965\" fill=\"none\" stroke=\"black\"/>\n",
       "<polygon fill=\"black\" points=\"635.369,-369.885 640.853,-378.951 642.219,-368.444 635.369,-369.885\" stroke=\"black\"/>\n",
       "</g>\n",
       "<!-- 4164582007916170069 -->\n",
       "<g class=\"node\" id=\"node50\"><title>4164582007916170069</title>\n",
       "<ellipse cx=\"680\" cy=\"-205.491\" fill=\"none\" rx=\"44.393\" ry=\"44.393\" stroke=\"black\"/>\n",
       "<text font-family=\"Times,serif\" font-size=\"14.00\" text-anchor=\"middle\" x=\"680\" y=\"-201.791\">transpose</text>\n",
       "</g>\n",
       "<!-- &#45;1941673558208001140&#45;&gt;4164582007916170069 -->\n",
       "<g class=\"edge\" id=\"edge46\"><title>-1941673558208001140-&gt;4164582007916170069</title>\n",
       "<path d=\"M650.436,-125.493C653.502,-133.686 657.344,-143.952 661.234,-154.346\" fill=\"none\" stroke=\"black\"/>\n",
       "<polygon fill=\"black\" points=\"658.016,-155.733 664.799,-163.872 664.572,-153.28 658.016,-155.733\" stroke=\"black\"/>\n",
       "</g>\n",
       "<!-- 5443416322090130398 -->\n",
       "<g class=\"node\" id=\"node21\"><title>5443416322090130398</title>\n",
       "<polygon fill=\"none\" points=\"851,-518.08 797,-518.08 797,-482.08 851,-482.08 851,-518.08\" stroke=\"black\"/>\n",
       "<text font-family=\"Times,serif\" font-size=\"14.00\" text-anchor=\"middle\" x=\"824\" y=\"-496.38\">(1, 2)</text>\n",
       "</g>\n",
       "<!-- &#45;8436057013827874639 -->\n",
       "<g class=\"node\" id=\"node22\"><title>-8436057013827874639</title>\n",
       "<ellipse cx=\"824\" cy=\"-401.884\" fill=\"none\" rx=\"23.2963\" ry=\"23.2963\" stroke=\"black\"/>\n",
       "<text font-family=\"Times,serif\" font-size=\"14.00\" text-anchor=\"middle\" x=\"824\" y=\"-398.184\">add</text>\n",
       "</g>\n",
       "<!-- &#45;8436057013827874639&#45;&gt;5443416322090130398 -->\n",
       "<g class=\"edge\" id=\"edge16\"><title>-8436057013827874639-&gt;5443416322090130398</title>\n",
       "<path d=\"M824,-425.681C824,-439.406 824,-456.973 824,-471.48\" fill=\"none\" stroke=\"black\"/>\n",
       "<polygon fill=\"black\" points=\"820.5,-471.863 824,-481.863 827.5,-471.863 820.5,-471.863\" stroke=\"black\"/>\n",
       "</g>\n",
       "<!-- &#45;1941673558206836091 -->\n",
       "<g class=\"node\" id=\"node23\"><title>-1941673558206836091</title>\n",
       "<polygon fill=\"none\" points=\"937,-321.687 883,-321.687 883,-285.687 937,-285.687 937,-321.687\" stroke=\"black\"/>\n",
       "<text font-family=\"Times,serif\" font-size=\"14.00\" text-anchor=\"middle\" x=\"910\" y=\"-299.987\">(1, 2)</text>\n",
       "</g>\n",
       "<!-- &#45;1941673558206836091&#45;&gt;&#45;8436057013827874639 -->\n",
       "<g class=\"edge\" id=\"edge17\"><title>-1941673558206836091-&gt;-8436057013827874639</title>\n",
       "<path d=\"M891.727,-321.787C881.219,-331.903 867.969,-345.153 857,-357.687 852.407,-362.936 847.715,-368.755 843.365,-374.376\" fill=\"none\" stroke=\"black\"/>\n",
       "<polygon fill=\"black\" points=\"840.546,-372.301 837.287,-382.383 846.121,-376.534 840.546,-372.301\" stroke=\"black\"/>\n",
       "</g>\n",
       "<!-- 1487535870113168318 -->\n",
       "<g class=\"node\" id=\"node53\"><title>1487535870113168318</title>\n",
       "<ellipse cx=\"910\" cy=\"-401.884\" fill=\"none\" rx=\"44.393\" ry=\"44.393\" stroke=\"black\"/>\n",
       "<text font-family=\"Times,serif\" font-size=\"14.00\" text-anchor=\"middle\" x=\"910\" y=\"-398.184\">transpose</text>\n",
       "</g>\n",
       "<!-- &#45;1941673558206836091&#45;&gt;1487535870113168318 -->\n",
       "<g class=\"edge\" id=\"edge52\"><title>-1941673558206836091-&gt;1487535870113168318</title>\n",
       "<path d=\"M910,-321.885C910,-329.188 910,-338.138 910,-347.358\" fill=\"none\" stroke=\"black\"/>\n",
       "<polygon fill=\"black\" points=\"906.5,-347.403 910,-357.403 913.5,-347.403 906.5,-347.403\" stroke=\"black\"/>\n",
       "</g>\n",
       "<!-- 5278526604661122535 -->\n",
       "<g class=\"node\" id=\"node24\"><title>5278526604661122535</title>\n",
       "<polygon fill=\"none\" points=\"851,-321.687 797,-321.687 797,-285.687 851,-285.687 851,-321.687\" stroke=\"black\"/>\n",
       "<text font-family=\"Times,serif\" font-size=\"14.00\" text-anchor=\"middle\" x=\"824\" y=\"-299.987\">(1, 2)</text>\n",
       "</g>\n",
       "<!-- 5278526604661122535&#45;&gt;&#45;8436057013827874639 -->\n",
       "<g class=\"edge\" id=\"edge18\"><title>5278526604661122535-&gt;-8436057013827874639</title>\n",
       "<path d=\"M824,-321.885C824,-334.707 824,-352.608 824,-368.129\" fill=\"none\" stroke=\"black\"/>\n",
       "<polygon fill=\"black\" points=\"820.5,-368.402 824,-378.402 827.5,-368.402 820.5,-368.402\" stroke=\"black\"/>\n",
       "</g>\n",
       "<!-- 5443412538496803831 -->\n",
       "<g class=\"node\" id=\"node25\"><title>5443412538496803831</title>\n",
       "<polygon fill=\"none\" points=\"481,-672.875 427,-672.875 427,-636.875 481,-636.875 481,-672.875\" stroke=\"black\"/>\n",
       "<text font-family=\"Times,serif\" font-size=\"14.00\" text-anchor=\"middle\" x=\"454\" y=\"-651.175\">(2, 0)</text>\n",
       "</g>\n",
       "<!-- &#45;1070510185112337784 -->\n",
       "<g class=\"node\" id=\"node26\"><title>-1070510185112337784</title>\n",
       "<ellipse cx=\"454\" cy=\"-577.478\" fill=\"none\" rx=\"23.2963\" ry=\"23.2963\" stroke=\"black\"/>\n",
       "<text font-family=\"Times,serif\" font-size=\"14.00\" text-anchor=\"middle\" x=\"454\" y=\"-573.778\">add</text>\n",
       "</g>\n",
       "<!-- &#45;1070510185112337784&#45;&gt;5443412538496803831 -->\n",
       "<g class=\"edge\" id=\"edge19\"><title>-1070510185112337784-&gt;5443412538496803831</title>\n",
       "<path d=\"M454,-601.099C454,-609.151 454,-618.302 454,-626.696\" fill=\"none\" stroke=\"black\"/>\n",
       "<polygon fill=\"black\" points=\"450.5,-626.784 454,-636.784 457.5,-626.784 450.5,-626.784\" stroke=\"black\"/>\n",
       "</g>\n",
       "<!-- &#45;1941669774618169720 -->\n",
       "<g class=\"node\" id=\"node27\"><title>-1941669774618169720</title>\n",
       "<polygon fill=\"none\" points=\"441,-125.295 387,-125.295 387,-89.2953 441,-89.2953 441,-125.295\" stroke=\"black\"/>\n",
       "<text font-family=\"Times,serif\" font-size=\"14.00\" text-anchor=\"middle\" x=\"414\" y=\"-103.595\">(2, 0)</text>\n",
       "</g>\n",
       "<!-- &#45;1941669774618169720&#45;&gt;&#45;1070510185112337784 -->\n",
       "<g class=\"edge\" id=\"edge20\"><title>-1941669774618169720-&gt;-1070510185112337784</title>\n",
       "<path d=\"M407.542,-125.746C403.973,-135.98 399.723,-149.23 397,-161.295 383.04,-223.145 378,-239.282 378,-302.687 378,-302.687 378,-302.687 378,-402.884 378,-456.524 390.585,-469.82 414,-518.08 419.435,-529.282 426.834,-540.764 433.79,-550.551\" fill=\"none\" stroke=\"black\"/>\n",
       "<polygon fill=\"black\" points=\"430.998,-552.662 439.729,-558.664 436.647,-548.528 430.998,-552.662\" stroke=\"black\"/>\n",
       "</g>\n",
       "<!-- &#45;6370813761005278603 -->\n",
       "<g class=\"node\" id=\"node48\"><title>-6370813761005278603</title>\n",
       "<ellipse cx=\"450\" cy=\"-205.491\" fill=\"none\" rx=\"44.393\" ry=\"44.393\" stroke=\"black\"/>\n",
       "<text font-family=\"Times,serif\" font-size=\"14.00\" text-anchor=\"middle\" x=\"450\" y=\"-201.791\">transpose</text>\n",
       "</g>\n",
       "<!-- &#45;1941669774618169720&#45;&gt;&#45;6370813761005278603 -->\n",
       "<g class=\"edge\" id=\"edge42\"><title>-1941669774618169720-&gt;-6370813761005278603</title>\n",
       "<path d=\"M420.436,-125.493C423.502,-133.686 427.344,-143.952 431.234,-154.346\" fill=\"none\" stroke=\"black\"/>\n",
       "<polygon fill=\"black\" points=\"428.016,-155.733 434.799,-163.872 434.572,-153.28 428.016,-155.733\" stroke=\"black\"/>\n",
       "</g>\n",
       "<!-- 5278525343466453810 -->\n",
       "<g class=\"node\" id=\"node28\"><title>5278525343466453810</title>\n",
       "<polygon fill=\"none\" points=\"556,-518.08 502,-518.08 502,-482.08 556,-482.08 556,-518.08\" stroke=\"black\"/>\n",
       "<text font-family=\"Times,serif\" font-size=\"14.00\" text-anchor=\"middle\" x=\"529\" y=\"-496.38\">(2, 0)</text>\n",
       "</g>\n",
       "<!-- 5278525343466453810&#45;&gt;&#45;1070510185112337784 -->\n",
       "<g class=\"edge\" id=\"edge21\"><title>5278525343466453810-&gt;-1070510185112337784</title>\n",
       "<path d=\"M511.981,-518.189C501.798,-528.426 488.708,-541.586 477.543,-552.81\" fill=\"none\" stroke=\"black\"/>\n",
       "<polygon fill=\"black\" points=\"474.751,-550.653 470.18,-560.212 479.714,-555.59 474.751,-550.653\" stroke=\"black\"/>\n",
       "</g>\n",
       "<!-- 5443412538497968880 -->\n",
       "<g class=\"node\" id=\"node29\"><title>5443412538497968880</title>\n",
       "<polygon fill=\"none\" points=\"854,-672.875 800,-672.875 800,-636.875 854,-636.875 854,-672.875\" stroke=\"black\"/>\n",
       "<text font-family=\"Times,serif\" font-size=\"14.00\" text-anchor=\"middle\" x=\"827\" y=\"-651.175\">(2, 1)</text>\n",
       "</g>\n",
       "<!-- &#45;264005903271222609 -->\n",
       "<g class=\"node\" id=\"node30\"><title>-264005903271222609</title>\n",
       "<ellipse cx=\"827\" cy=\"-577.478\" fill=\"none\" rx=\"23.2963\" ry=\"23.2963\" stroke=\"black\"/>\n",
       "<text font-family=\"Times,serif\" font-size=\"14.00\" text-anchor=\"middle\" x=\"827\" y=\"-573.778\">add</text>\n",
       "</g>\n",
       "<!-- &#45;264005903271222609&#45;&gt;5443412538497968880 -->\n",
       "<g class=\"edge\" id=\"edge22\"><title>-264005903271222609-&gt;5443412538497968880</title>\n",
       "<path d=\"M827,-601.099C827,-609.151 827,-618.302 827,-626.696\" fill=\"none\" stroke=\"black\"/>\n",
       "<polygon fill=\"black\" points=\"823.5,-626.784 827,-636.784 830.5,-626.784 823.5,-626.784\" stroke=\"black\"/>\n",
       "</g>\n",
       "<!-- 5278525343465288761 -->\n",
       "<g class=\"node\" id=\"node31\"><title>5278525343465288761</title>\n",
       "<polygon fill=\"none\" points=\"930,-518.08 876,-518.08 876,-482.08 930,-482.08 930,-518.08\" stroke=\"black\"/>\n",
       "<text font-family=\"Times,serif\" font-size=\"14.00\" text-anchor=\"middle\" x=\"903\" y=\"-496.38\">(2, 1)</text>\n",
       "</g>\n",
       "<!-- 5278525343465288761&#45;&gt;&#45;264005903271222609 -->\n",
       "<g class=\"edge\" id=\"edge23\"><title>5278525343465288761-&gt;-264005903271222609</title>\n",
       "<path d=\"M885.754,-518.189C875.264,-528.596 861.73,-542.023 850.296,-553.367\" fill=\"none\" stroke=\"black\"/>\n",
       "<polygon fill=\"black\" points=\"847.772,-550.94 843.138,-560.467 852.702,-555.909 847.772,-550.94\" stroke=\"black\"/>\n",
       "</g>\n",
       "<!-- &#45;1941669774619334769 -->\n",
       "<g class=\"node\" id=\"node32\"><title>-1941669774619334769</title>\n",
       "<polygon fill=\"none\" points=\"815,-125.295 761,-125.295 761,-89.2953 815,-89.2953 815,-125.295\" stroke=\"black\"/>\n",
       "<text font-family=\"Times,serif\" font-size=\"14.00\" text-anchor=\"middle\" x=\"788\" y=\"-103.595\">(2, 1)</text>\n",
       "</g>\n",
       "<!-- &#45;1941669774619334769&#45;&gt;&#45;264005903271222609 -->\n",
       "<g class=\"edge\" id=\"edge24\"><title>-1941669774619334769-&gt;-264005903271222609</title>\n",
       "<path d=\"M781.542,-125.746C777.973,-135.98 773.723,-149.23 771,-161.295 757.04,-223.145 752,-239.282 752,-302.687 752,-302.687 752,-302.687 752,-402.884 752,-458.7 785.08,-516.944 807.301,-549.772\" fill=\"none\" stroke=\"black\"/>\n",
       "<polygon fill=\"black\" points=\"804.666,-552.115 813.244,-558.335 810.417,-548.124 804.666,-552.115\" stroke=\"black\"/>\n",
       "</g>\n",
       "<!-- &#45;6754906242602821672 -->\n",
       "<g class=\"node\" id=\"node51\"><title>-6754906242602821672</title>\n",
       "<ellipse cx=\"824\" cy=\"-205.491\" fill=\"none\" rx=\"44.393\" ry=\"44.393\" stroke=\"black\"/>\n",
       "<text font-family=\"Times,serif\" font-size=\"14.00\" text-anchor=\"middle\" x=\"824\" y=\"-201.791\">transpose</text>\n",
       "</g>\n",
       "<!-- &#45;1941669774619334769&#45;&gt;&#45;6754906242602821672 -->\n",
       "<g class=\"edge\" id=\"edge48\"><title>-1941669774619334769-&gt;-6754906242602821672</title>\n",
       "<path d=\"M794.436,-125.493C797.502,-133.686 801.344,-143.952 805.234,-154.346\" fill=\"none\" stroke=\"black\"/>\n",
       "<polygon fill=\"black\" points=\"802.016,-155.733 808.799,-163.872 808.572,-153.28 802.016,-155.733\" stroke=\"black\"/>\n",
       "</g>\n",
       "<!-- 5443412538499133929 -->\n",
       "<g class=\"node\" id=\"node33\"><title>5443412538499133929</title>\n",
       "<polygon fill=\"none\" points=\"1047,-518.08 993,-518.08 993,-482.08 1047,-482.08 1047,-518.08\" stroke=\"black\"/>\n",
       "<text font-family=\"Times,serif\" font-size=\"14.00\" text-anchor=\"middle\" x=\"1020\" y=\"-496.38\">(2, 2)</text>\n",
       "</g>\n",
       "<!-- 803927853843701966 -->\n",
       "<g class=\"node\" id=\"node34\"><title>803927853843701966</title>\n",
       "<ellipse cx=\"1020\" cy=\"-401.884\" fill=\"none\" rx=\"23.2963\" ry=\"23.2963\" stroke=\"black\"/>\n",
       "<text font-family=\"Times,serif\" font-size=\"14.00\" text-anchor=\"middle\" x=\"1020\" y=\"-398.184\">add</text>\n",
       "</g>\n",
       "<!-- 803927853843701966&#45;&gt;5443412538499133929 -->\n",
       "<g class=\"edge\" id=\"edge25\"><title>803927853843701966-&gt;5443412538499133929</title>\n",
       "<path d=\"M1020,-425.681C1020,-439.406 1020,-456.973 1020,-471.48\" fill=\"none\" stroke=\"black\"/>\n",
       "<polygon fill=\"black\" points=\"1016.5,-471.863 1020,-481.863 1023.5,-471.863 1016.5,-471.863\" stroke=\"black\"/>\n",
       "</g>\n",
       "<!-- 5278525343464123712 -->\n",
       "<g class=\"node\" id=\"node35\"><title>5278525343464123712</title>\n",
       "<polygon fill=\"none\" points=\"1072,-321.687 1018,-321.687 1018,-285.687 1072,-285.687 1072,-321.687\" stroke=\"black\"/>\n",
       "<text font-family=\"Times,serif\" font-size=\"14.00\" text-anchor=\"middle\" x=\"1045\" y=\"-299.987\">(2, 2)</text>\n",
       "</g>\n",
       "<!-- 5278525343464123712&#45;&gt;803927853843701966 -->\n",
       "<g class=\"edge\" id=\"edge26\"><title>5278525343464123712-&gt;803927853843701966</title>\n",
       "<path d=\"M1040.53,-321.885C1037.12,-335.007 1032.33,-353.451 1028.23,-369.217\" fill=\"none\" stroke=\"black\"/>\n",
       "<polygon fill=\"black\" points=\"1024.79,-368.549 1025.66,-379.108 1031.56,-370.31 1024.79,-368.549\" stroke=\"black\"/>\n",
       "</g>\n",
       "<!-- &#45;1941669774615839622 -->\n",
       "<g class=\"node\" id=\"node36\"><title>-1941669774615839622</title>\n",
       "<polygon fill=\"none\" points=\"1045,-125.295 991,-125.295 991,-89.2953 1045,-89.2953 1045,-125.295\" stroke=\"black\"/>\n",
       "<text font-family=\"Times,serif\" font-size=\"14.00\" text-anchor=\"middle\" x=\"1018\" y=\"-103.595\">(2, 2)</text>\n",
       "</g>\n",
       "<!-- &#45;1941669774615839622&#45;&gt;803927853843701966 -->\n",
       "<g class=\"edge\" id=\"edge27\"><title>-1941669774615839622-&gt;803927853843701966</title>\n",
       "<path d=\"M1010.93,-125.63C1007.16,-135.825 1002.91,-149.075 1001,-161.295 989.452,-235.108 1003.35,-322.873 1012.75,-368.965\" fill=\"none\" stroke=\"black\"/>\n",
       "<polygon fill=\"black\" points=\"1009.37,-369.885 1014.85,-378.951 1016.22,-368.444 1009.37,-369.885\" stroke=\"black\"/>\n",
       "</g>\n",
       "<!-- &#45;8561832074181781473 -->\n",
       "<g class=\"node\" id=\"node54\"><title>-8561832074181781473</title>\n",
       "<ellipse cx=\"1054\" cy=\"-205.491\" fill=\"none\" rx=\"44.393\" ry=\"44.393\" stroke=\"black\"/>\n",
       "<text font-family=\"Times,serif\" font-size=\"14.00\" text-anchor=\"middle\" x=\"1054\" y=\"-201.791\">transpose</text>\n",
       "</g>\n",
       "<!-- &#45;1941669774615839622&#45;&gt;&#45;8561832074181781473 -->\n",
       "<g class=\"edge\" id=\"edge54\"><title>-1941669774615839622-&gt;-8561832074181781473</title>\n",
       "<path d=\"M1024.44,-125.493C1027.5,-133.686 1031.34,-143.952 1035.23,-154.346\" fill=\"none\" stroke=\"black\"/>\n",
       "<polygon fill=\"black\" points=\"1032.02,-155.733 1038.8,-163.872 1038.57,-153.28 1032.02,-155.733\" stroke=\"black\"/>\n",
       "</g>\n",
       "<!-- 1559992502605634669 -->\n",
       "<g class=\"node\" id=\"node37\"><title>1559992502605634669</title>\n",
       "<ellipse cx=\"49\" cy=\"-26.6476\" fill=\"none\" rx=\"26.7961\" ry=\"26.7961\" stroke=\"black\"/>\n",
       "<text font-family=\"Times,serif\" font-size=\"14.00\" text-anchor=\"middle\" x=\"49\" y=\"-22.9476\">ones</text>\n",
       "</g>\n",
       "<!-- 1559992502605634669&#45;&gt;&#45;1941672297012167366 -->\n",
       "<g class=\"edge\" id=\"edge28\"><title>1559992502605634669-&gt;-1941672297012167366</title>\n",
       "<path d=\"M49,-53.3998C49,-61.4986 49,-70.4727 49,-78.6944\" fill=\"none\" stroke=\"black\"/>\n",
       "<polygon fill=\"black\" points=\"45.5001,-78.9322 49,-88.9323 52.5001,-78.9323 45.5001,-78.9322\" stroke=\"black\"/>\n",
       "</g>\n",
       "<!-- &#45;106982409486956106 -->\n",
       "<g class=\"node\" id=\"node38\"><title>-106982409486956106</title>\n",
       "<ellipse cx=\"309\" cy=\"-205.491\" fill=\"none\" rx=\"26.7961\" ry=\"26.7961\" stroke=\"black\"/>\n",
       "<text font-family=\"Times,serif\" font-size=\"14.00\" text-anchor=\"middle\" x=\"309\" y=\"-201.791\">ones</text>\n",
       "</g>\n",
       "<!-- &#45;106982409486956106&#45;&gt;&#45;1941672297013332415 -->\n",
       "<g class=\"edge\" id=\"edge29\"><title>-106982409486956106-&gt;-1941672297013332415</title>\n",
       "<path d=\"M308.196,-232.27C307.78,-245.62 307.271,-261.917 306.849,-275.47\" fill=\"none\" stroke=\"black\"/>\n",
       "<polygon fill=\"black\" points=\"303.345,-275.538 306.532,-285.642 310.342,-275.756 303.345,-275.538\" stroke=\"black\"/>\n",
       "</g>\n",
       "<!-- &#45;2839611490583423081 -->\n",
       "<g class=\"node\" id=\"node39\"><title>-2839611490583423081</title>\n",
       "<ellipse cx=\"539\" cy=\"-205.491\" fill=\"none\" rx=\"26.7961\" ry=\"26.7961\" stroke=\"black\"/>\n",
       "<text font-family=\"Times,serif\" font-size=\"14.00\" text-anchor=\"middle\" x=\"539\" y=\"-201.791\">ones</text>\n",
       "</g>\n",
       "<!-- &#45;2839611490583423081&#45;&gt;&#45;1941672297014497464 -->\n",
       "<g class=\"edge\" id=\"edge30\"><title>-2839611490583423081-&gt;-1941672297014497464</title>\n",
       "<path d=\"M538.196,-232.27C537.78,-245.62 537.271,-261.917 536.849,-275.47\" fill=\"none\" stroke=\"black\"/>\n",
       "<polygon fill=\"black\" points=\"533.345,-275.538 536.532,-285.642 540.342,-275.756 533.345,-275.538\" stroke=\"black\"/>\n",
       "</g>\n",
       "<!-- &#45;6564823221690706940 -->\n",
       "<g class=\"node\" id=\"node40\"><title>-6564823221690706940</title>\n",
       "<ellipse cx=\"157\" cy=\"-26.6476\" fill=\"none\" rx=\"26.7961\" ry=\"26.7961\" stroke=\"black\"/>\n",
       "<text font-family=\"Times,serif\" font-size=\"14.00\" text-anchor=\"middle\" x=\"157\" y=\"-22.9476\">ones</text>\n",
       "</g>\n",
       "<!-- &#45;6564823221690706940&#45;&gt;&#45;1941673558209166189 -->\n",
       "<g class=\"edge\" id=\"edge31\"><title>-6564823221690706940-&gt;-1941673558209166189</title>\n",
       "<path d=\"M157,-53.3998C157,-61.4986 157,-70.4727 157,-78.6944\" fill=\"none\" stroke=\"black\"/>\n",
       "<polygon fill=\"black\" points=\"153.5,-78.9322 157,-88.9323 160.5,-78.9323 153.5,-78.9322\" stroke=\"black\"/>\n",
       "</g>\n",
       "<!-- &#45;5530746336144437765 -->\n",
       "<g class=\"node\" id=\"node41\"><title>-5530746336144437765</title>\n",
       "<ellipse cx=\"644\" cy=\"-26.6476\" fill=\"none\" rx=\"26.7961\" ry=\"26.7961\" stroke=\"black\"/>\n",
       "<text font-family=\"Times,serif\" font-size=\"14.00\" text-anchor=\"middle\" x=\"644\" y=\"-22.9476\">ones</text>\n",
       "</g>\n",
       "<!-- &#45;5530746336144437765&#45;&gt;&#45;1941673558208001140 -->\n",
       "<g class=\"edge\" id=\"edge32\"><title>-5530746336144437765-&gt;-1941673558208001140</title>\n",
       "<path d=\"M644,-53.3998C644,-61.4986 644,-70.4727 644,-78.6944\" fill=\"none\" stroke=\"black\"/>\n",
       "<polygon fill=\"black\" points=\"640.5,-78.9322 644,-88.9323 647.5,-78.9323 640.5,-78.9322\" stroke=\"black\"/>\n",
       "</g>\n",
       "<!-- &#45;3592581693264265190 -->\n",
       "<g class=\"node\" id=\"node42\"><title>-3592581693264265190</title>\n",
       "<ellipse cx=\"913\" cy=\"-205.491\" fill=\"none\" rx=\"26.7961\" ry=\"26.7961\" stroke=\"black\"/>\n",
       "<text font-family=\"Times,serif\" font-size=\"14.00\" text-anchor=\"middle\" x=\"913\" y=\"-201.791\">ones</text>\n",
       "</g>\n",
       "<!-- &#45;3592581693264265190&#45;&gt;&#45;1941673558206836091 -->\n",
       "<g class=\"edge\" id=\"edge33\"><title>-3592581693264265190-&gt;-1941673558206836091</title>\n",
       "<path d=\"M912.196,-232.27C911.78,-245.62 911.271,-261.917 910.849,-275.47\" fill=\"none\" stroke=\"black\"/>\n",
       "<polygon fill=\"black\" points=\"907.345,-275.538 910.532,-285.642 914.342,-275.756 907.345,-275.538\" stroke=\"black\"/>\n",
       "</g>\n",
       "<!-- 2410898333811973463 -->\n",
       "<g class=\"node\" id=\"node43\"><title>2410898333811973463</title>\n",
       "<ellipse cx=\"414\" cy=\"-26.6476\" fill=\"none\" rx=\"26.7961\" ry=\"26.7961\" stroke=\"black\"/>\n",
       "<text font-family=\"Times,serif\" font-size=\"14.00\" text-anchor=\"middle\" x=\"414\" y=\"-22.9476\">ones</text>\n",
       "</g>\n",
       "<!-- 2410898333811973463&#45;&gt;&#45;1941669774618169720 -->\n",
       "<g class=\"edge\" id=\"edge34\"><title>2410898333811973463-&gt;-1941669774618169720</title>\n",
       "<path d=\"M414,-53.3998C414,-61.4986 414,-70.4727 414,-78.6944\" fill=\"none\" stroke=\"black\"/>\n",
       "<polygon fill=\"black\" points=\"410.5,-78.9322 414,-88.9323 417.5,-78.9323 410.5,-78.9322\" stroke=\"black\"/>\n",
       "</g>\n",
       "<!-- 4400977179639088 -->\n",
       "<g class=\"node\" id=\"node44\"><title>4400977179639088</title>\n",
       "<ellipse cx=\"788\" cy=\"-26.6476\" fill=\"none\" rx=\"26.7961\" ry=\"26.7961\" stroke=\"black\"/>\n",
       "<text font-family=\"Times,serif\" font-size=\"14.00\" text-anchor=\"middle\" x=\"788\" y=\"-22.9476\">ones</text>\n",
       "</g>\n",
       "<!-- 4400977179639088&#45;&gt;&#45;1941669774619334769 -->\n",
       "<g class=\"edge\" id=\"edge35\"><title>4400977179639088-&gt;-1941669774619334769</title>\n",
       "<path d=\"M788,-53.3998C788,-61.4986 788,-70.4727 788,-78.6944\" fill=\"none\" stroke=\"black\"/>\n",
       "<polygon fill=\"black\" points=\"784.5,-78.9322 788,-88.9323 791.5,-78.9323 784.5,-78.9322\" stroke=\"black\"/>\n",
       "</g>\n",
       "<!-- 3294687659819815213 -->\n",
       "<g class=\"node\" id=\"node45\"><title>3294687659819815213</title>\n",
       "<ellipse cx=\"1018\" cy=\"-26.6476\" fill=\"none\" rx=\"26.7961\" ry=\"26.7961\" stroke=\"black\"/>\n",
       "<text font-family=\"Times,serif\" font-size=\"14.00\" text-anchor=\"middle\" x=\"1018\" y=\"-22.9476\">ones</text>\n",
       "</g>\n",
       "<!-- 3294687659819815213&#45;&gt;&#45;1941669774615839622 -->\n",
       "<g class=\"edge\" id=\"edge36\"><title>3294687659819815213-&gt;-1941669774615839622</title>\n",
       "<path d=\"M1018,-53.3998C1018,-61.4986 1018,-70.4727 1018,-78.6944\" fill=\"none\" stroke=\"black\"/>\n",
       "<polygon fill=\"black\" points=\"1014.5,-78.9322 1018,-88.9323 1021.5,-78.9323 1014.5,-78.9322\" stroke=\"black\"/>\n",
       "</g>\n",
       "<!-- 9105664000892509663&#45;&gt;5278527865860451456 -->\n",
       "<g class=\"edge\" id=\"edge37\"><title>9105664000892509663-&gt;5278527865860451456</title>\n",
       "<path d=\"M62.9738,-249.525C62.163,-258.192 61.3314,-267.08 60.5859,-275.048\" fill=\"none\" stroke=\"black\"/>\n",
       "<polygon fill=\"black\" points=\"57.0796,-274.953 59.6328,-285.236 64.0492,-275.605 57.0796,-274.953\" stroke=\"black\"/>\n",
       "</g>\n",
       "<!-- 6296311659013396088&#45;&gt;5278527865859286407 -->\n",
       "<g class=\"edge\" id=\"edge39\"><title>6296311659013396088-&gt;5278527865859286407</title>\n",
       "<path d=\"M220,-249.805C220,-258.445 220,-267.293 220,-275.219\" fill=\"none\" stroke=\"black\"/>\n",
       "<polygon fill=\"black\" points=\"216.5,-275.349 220,-285.349 223.5,-275.349 216.5,-275.349\" stroke=\"black\"/>\n",
       "</g>\n",
       "<!-- &#45;6370813761005278603&#45;&gt;5278527865862781554 -->\n",
       "<g class=\"edge\" id=\"edge41\"><title>-6370813761005278603-&gt;5278527865862781554</title>\n",
       "<path d=\"M450,-249.805C450,-258.445 450,-267.293 450,-275.219\" fill=\"none\" stroke=\"black\"/>\n",
       "<polygon fill=\"black\" points=\"446.5,-275.349 450,-285.349 453.5,-275.349 446.5,-275.349\" stroke=\"black\"/>\n",
       "</g>\n",
       "<!-- &#45;5875516679122537122&#45;&gt;5278526604663452633 -->\n",
       "<g class=\"edge\" id=\"edge43\"><title>-5875516679122537122-&gt;5278526604663452633</title>\n",
       "<path d=\"M302.848,-446.198C302.219,-454.837 301.576,-463.685 300.999,-471.611\" fill=\"none\" stroke=\"black\"/>\n",
       "<polygon fill=\"black\" points=\"297.497,-471.513 300.262,-481.741 304.478,-472.021 297.497,-471.513\" stroke=\"black\"/>\n",
       "</g>\n",
       "<!-- 4164582007916170069&#45;&gt;5278526604664617682 -->\n",
       "<g class=\"edge\" id=\"edge45\"><title>4164582007916170069-&gt;5278526604664617682</title>\n",
       "<path d=\"M675.974,-249.525C675.163,-258.192 674.331,-267.08 673.586,-275.048\" fill=\"none\" stroke=\"black\"/>\n",
       "<polygon fill=\"black\" points=\"670.08,-274.953 672.633,-285.236 677.049,-275.605 670.08,-274.953\" stroke=\"black\"/>\n",
       "</g>\n",
       "<!-- &#45;6754906242602821672&#45;&gt;5278526604661122535 -->\n",
       "<g class=\"edge\" id=\"edge47\"><title>-6754906242602821672-&gt;5278526604661122535</title>\n",
       "<path d=\"M824,-249.805C824,-258.445 824,-267.293 824,-275.219\" fill=\"none\" stroke=\"black\"/>\n",
       "<polygon fill=\"black\" points=\"820.5,-275.349 824,-285.349 827.5,-275.349 820.5,-275.349\" stroke=\"black\"/>\n",
       "</g>\n",
       "<!-- 2530837792470906293&#45;&gt;5278525343466453810 -->\n",
       "<g class=\"edge\" id=\"edge49\"><title>2530837792470906293-&gt;5278525343466453810</title>\n",
       "<path d=\"M532.848,-446.198C532.219,-454.837 531.576,-463.685 530.999,-471.611\" fill=\"none\" stroke=\"black\"/>\n",
       "<polygon fill=\"black\" points=\"527.497,-471.513 530.262,-481.741 534.478,-472.021 527.497,-471.513\" stroke=\"black\"/>\n",
       "</g>\n",
       "<!-- 1487535870113168318&#45;&gt;5278525343465288761 -->\n",
       "<g class=\"edge\" id=\"edge51\"><title>1487535870113168318-&gt;5278525343465288761</title>\n",
       "<path d=\"M906.848,-446.198C906.219,-454.837 905.576,-463.685 904.999,-471.611\" fill=\"none\" stroke=\"black\"/>\n",
       "<polygon fill=\"black\" points=\"901.497,-471.513 904.262,-481.741 908.478,-472.021 901.497,-471.513\" stroke=\"black\"/>\n",
       "</g>\n",
       "<!-- &#45;8561832074181781473&#45;&gt;5278525343464123712 -->\n",
       "<g class=\"edge\" id=\"edge53\"><title>-8561832074181781473-&gt;5278525343464123712</title>\n",
       "<path d=\"M1049.97,-249.525C1049.16,-258.192 1048.33,-267.08 1047.59,-275.048\" fill=\"none\" stroke=\"black\"/>\n",
       "<polygon fill=\"black\" points=\"1044.08,-274.953 1046.63,-285.236 1051.05,-275.605 1044.08,-274.953\" stroke=\"black\"/>\n",
       "</g>\n",
       "</g>\n",
       "</svg>"
      ],
      "text/plain": [
       "<IPython.core.display.SVG object>"
      ]
     },
     "execution_count": 27,
     "metadata": {},
     "output_type": "execute_result"
    }
   ],
   "source": [
    "import dask.array as da\n",
    "x = da.ones((15, 15), chunks=(5, 5))\n",
    "\n",
    "y = x + x.T\n",
    "\n",
    "# y.compute()\n",
    "y.visualize(filename='transpose.svg')\n"
   ]
  },
  {
   "cell_type": "code",
   "execution_count": 28,
   "metadata": {
    "collapsed": true
   },
   "outputs": [],
   "source": [
    "x = da.random.normal(10, 0.1, size=(100000,), chunks=(1000,))  # random dataset \n",
    "\n",
    "h= da.histogram(x, bins=100, range=[9, 11])"
   ]
  },
  {
   "cell_type": "code",
   "execution_count": 29,
   "metadata": {
    "scrolled": true
   },
   "outputs": [
    {
     "data": {
      "text/plain": [
       "(dask.array<sum-aggregate, shape=(100,), dtype=int64, chunksize=(100,)>,\n",
       " array([  9.  ,   9.02,   9.04,   9.06,   9.08,   9.1 ,   9.12,   9.14,\n",
       "          9.16,   9.18,   9.2 ,   9.22,   9.24,   9.26,   9.28,   9.3 ,\n",
       "          9.32,   9.34,   9.36,   9.38,   9.4 ,   9.42,   9.44,   9.46,\n",
       "          9.48,   9.5 ,   9.52,   9.54,   9.56,   9.58,   9.6 ,   9.62,\n",
       "          9.64,   9.66,   9.68,   9.7 ,   9.72,   9.74,   9.76,   9.78,\n",
       "          9.8 ,   9.82,   9.84,   9.86,   9.88,   9.9 ,   9.92,   9.94,\n",
       "          9.96,   9.98,  10.  ,  10.02,  10.04,  10.06,  10.08,  10.1 ,\n",
       "         10.12,  10.14,  10.16,  10.18,  10.2 ,  10.22,  10.24,  10.26,\n",
       "         10.28,  10.3 ,  10.32,  10.34,  10.36,  10.38,  10.4 ,  10.42,\n",
       "         10.44,  10.46,  10.48,  10.5 ,  10.52,  10.54,  10.56,  10.58,\n",
       "         10.6 ,  10.62,  10.64,  10.66,  10.68,  10.7 ,  10.72,  10.74,\n",
       "         10.76,  10.78,  10.8 ,  10.82,  10.84,  10.86,  10.88,  10.9 ,\n",
       "         10.92,  10.94,  10.96,  10.98,  11.  ]))"
      ]
     },
     "execution_count": 29,
     "metadata": {},
     "output_type": "execute_result"
    }
   ],
   "source": [
    "da.histogram(x, bins=100, range=[9, 11], normed=False, weights=None, density=None)"
   ]
  }
 ],
 "metadata": {
  "kernelspec": {
   "display_name": "Python 3",
   "language": "python",
   "name": "python3"
  },
  "language_info": {
   "codemirror_mode": {
    "name": "ipython",
    "version": 3
   },
   "file_extension": ".py",
   "mimetype": "text/x-python",
   "name": "python",
   "nbconvert_exporter": "python",
   "pygments_lexer": "ipython3",
   "version": "3.6.8"
  }
 },
 "nbformat": 4,
 "nbformat_minor": 2
}
